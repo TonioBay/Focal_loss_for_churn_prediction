{
  "cells": [
    {
      "cell_type": "markdown",
      "metadata": {
        "id": "7cj1lfCr8mwC"
      },
      "source": [
        "# Import data"
      ]
    },
    {
      "cell_type": "code",
      "execution_count": 1,
      "metadata": {
        "id": "QoktQ-D86VsF"
      },
      "outputs": [],
      "source": [
        "import pandas as pd\n",
        "import numpy as np\n",
        "data = pd.read_csv('Data/BankChurners.csv')"
      ]
    },
    {
      "cell_type": "code",
      "execution_count": 2,
      "metadata": {
        "id": "ojDPde9l6aEY"
      },
      "outputs": [],
      "source": [
        "data = data.drop(data.columns[[21,22]], axis = 1)"
      ]
    },
    {
      "cell_type": "code",
      "execution_count": 3,
      "metadata": {
        "colab": {
          "base_uri": "https://localhost:8080/",
          "height": 342
        },
        "id": "Tu4zAe9m69xH",
        "outputId": "b19bf672-53fa-44a4-bdac-d6c4ea332fee"
      },
      "outputs": [
        {
          "data": {
            "application/vnd.microsoft.datawrangler.viewer.v0+json": {
              "columns": [
                {
                  "name": "index",
                  "rawType": "int64",
                  "type": "integer"
                },
                {
                  "name": "CLIENTNUM",
                  "rawType": "int64",
                  "type": "integer"
                },
                {
                  "name": "Attrition_Flag",
                  "rawType": "object",
                  "type": "string"
                },
                {
                  "name": "Customer_Age",
                  "rawType": "int64",
                  "type": "integer"
                },
                {
                  "name": "Gender",
                  "rawType": "object",
                  "type": "string"
                },
                {
                  "name": "Dependent_count",
                  "rawType": "int64",
                  "type": "integer"
                },
                {
                  "name": "Education_Level",
                  "rawType": "object",
                  "type": "string"
                },
                {
                  "name": "Marital_Status",
                  "rawType": "object",
                  "type": "string"
                },
                {
                  "name": "Income_Category",
                  "rawType": "object",
                  "type": "string"
                },
                {
                  "name": "Card_Category",
                  "rawType": "object",
                  "type": "string"
                },
                {
                  "name": "Months_on_book",
                  "rawType": "int64",
                  "type": "integer"
                },
                {
                  "name": "Total_Relationship_Count",
                  "rawType": "int64",
                  "type": "integer"
                },
                {
                  "name": "Months_Inactive_12_mon",
                  "rawType": "int64",
                  "type": "integer"
                },
                {
                  "name": "Contacts_Count_12_mon",
                  "rawType": "int64",
                  "type": "integer"
                },
                {
                  "name": "Credit_Limit",
                  "rawType": "float64",
                  "type": "float"
                },
                {
                  "name": "Total_Revolving_Bal",
                  "rawType": "int64",
                  "type": "integer"
                },
                {
                  "name": "Avg_Open_To_Buy",
                  "rawType": "float64",
                  "type": "float"
                },
                {
                  "name": "Total_Amt_Chng_Q4_Q1",
                  "rawType": "float64",
                  "type": "float"
                },
                {
                  "name": "Total_Trans_Amt",
                  "rawType": "int64",
                  "type": "integer"
                },
                {
                  "name": "Total_Trans_Ct",
                  "rawType": "int64",
                  "type": "integer"
                },
                {
                  "name": "Total_Ct_Chng_Q4_Q1",
                  "rawType": "float64",
                  "type": "float"
                },
                {
                  "name": "Avg_Utilization_Ratio",
                  "rawType": "float64",
                  "type": "float"
                }
              ],
              "conversionMethod": "pd.DataFrame",
              "ref": "ff6add77-8a69-416b-8f85-7ea2bcb1e843",
              "rows": [
                [
                  "0",
                  "768805383",
                  "Existing Customer",
                  "45",
                  "M",
                  "3",
                  "High School",
                  "Married",
                  "$60K - $80K",
                  "Blue",
                  "39",
                  "5",
                  "1",
                  "3",
                  "12691.0",
                  "777",
                  "11914.0",
                  "1.335",
                  "1144",
                  "42",
                  "1.625",
                  "0.061"
                ],
                [
                  "1",
                  "818770008",
                  "Existing Customer",
                  "49",
                  "F",
                  "5",
                  "Graduate",
                  "Single",
                  "Less than $40K",
                  "Blue",
                  "44",
                  "6",
                  "1",
                  "2",
                  "8256.0",
                  "864",
                  "7392.0",
                  "1.541",
                  "1291",
                  "33",
                  "3.714",
                  "0.105"
                ],
                [
                  "2",
                  "713982108",
                  "Existing Customer",
                  "51",
                  "M",
                  "3",
                  "Graduate",
                  "Married",
                  "$80K - $120K",
                  "Blue",
                  "36",
                  "4",
                  "1",
                  "0",
                  "3418.0",
                  "0",
                  "3418.0",
                  "2.594",
                  "1887",
                  "20",
                  "2.333",
                  "0.0"
                ],
                [
                  "3",
                  "769911858",
                  "Existing Customer",
                  "40",
                  "F",
                  "4",
                  "High School",
                  "Unknown",
                  "Less than $40K",
                  "Blue",
                  "34",
                  "3",
                  "4",
                  "1",
                  "3313.0",
                  "2517",
                  "796.0",
                  "1.405",
                  "1171",
                  "20",
                  "2.333",
                  "0.76"
                ],
                [
                  "4",
                  "709106358",
                  "Existing Customer",
                  "40",
                  "M",
                  "3",
                  "Uneducated",
                  "Married",
                  "$60K - $80K",
                  "Blue",
                  "21",
                  "5",
                  "1",
                  "0",
                  "4716.0",
                  "0",
                  "4716.0",
                  "2.175",
                  "816",
                  "28",
                  "2.5",
                  "0.0"
                ]
              ],
              "shape": {
                "columns": 21,
                "rows": 5
              }
            },
            "text/html": [
              "<div>\n",
              "<style scoped>\n",
              "    .dataframe tbody tr th:only-of-type {\n",
              "        vertical-align: middle;\n",
              "    }\n",
              "\n",
              "    .dataframe tbody tr th {\n",
              "        vertical-align: top;\n",
              "    }\n",
              "\n",
              "    .dataframe thead th {\n",
              "        text-align: right;\n",
              "    }\n",
              "</style>\n",
              "<table border=\"1\" class=\"dataframe\">\n",
              "  <thead>\n",
              "    <tr style=\"text-align: right;\">\n",
              "      <th></th>\n",
              "      <th>CLIENTNUM</th>\n",
              "      <th>Attrition_Flag</th>\n",
              "      <th>Customer_Age</th>\n",
              "      <th>Gender</th>\n",
              "      <th>Dependent_count</th>\n",
              "      <th>Education_Level</th>\n",
              "      <th>Marital_Status</th>\n",
              "      <th>Income_Category</th>\n",
              "      <th>Card_Category</th>\n",
              "      <th>Months_on_book</th>\n",
              "      <th>...</th>\n",
              "      <th>Months_Inactive_12_mon</th>\n",
              "      <th>Contacts_Count_12_mon</th>\n",
              "      <th>Credit_Limit</th>\n",
              "      <th>Total_Revolving_Bal</th>\n",
              "      <th>Avg_Open_To_Buy</th>\n",
              "      <th>Total_Amt_Chng_Q4_Q1</th>\n",
              "      <th>Total_Trans_Amt</th>\n",
              "      <th>Total_Trans_Ct</th>\n",
              "      <th>Total_Ct_Chng_Q4_Q1</th>\n",
              "      <th>Avg_Utilization_Ratio</th>\n",
              "    </tr>\n",
              "  </thead>\n",
              "  <tbody>\n",
              "    <tr>\n",
              "      <th>0</th>\n",
              "      <td>768805383</td>\n",
              "      <td>Existing Customer</td>\n",
              "      <td>45</td>\n",
              "      <td>M</td>\n",
              "      <td>3</td>\n",
              "      <td>High School</td>\n",
              "      <td>Married</td>\n",
              "      <td>$60K - $80K</td>\n",
              "      <td>Blue</td>\n",
              "      <td>39</td>\n",
              "      <td>...</td>\n",
              "      <td>1</td>\n",
              "      <td>3</td>\n",
              "      <td>12691.0</td>\n",
              "      <td>777</td>\n",
              "      <td>11914.0</td>\n",
              "      <td>1.335</td>\n",
              "      <td>1144</td>\n",
              "      <td>42</td>\n",
              "      <td>1.625</td>\n",
              "      <td>0.061</td>\n",
              "    </tr>\n",
              "    <tr>\n",
              "      <th>1</th>\n",
              "      <td>818770008</td>\n",
              "      <td>Existing Customer</td>\n",
              "      <td>49</td>\n",
              "      <td>F</td>\n",
              "      <td>5</td>\n",
              "      <td>Graduate</td>\n",
              "      <td>Single</td>\n",
              "      <td>Less than $40K</td>\n",
              "      <td>Blue</td>\n",
              "      <td>44</td>\n",
              "      <td>...</td>\n",
              "      <td>1</td>\n",
              "      <td>2</td>\n",
              "      <td>8256.0</td>\n",
              "      <td>864</td>\n",
              "      <td>7392.0</td>\n",
              "      <td>1.541</td>\n",
              "      <td>1291</td>\n",
              "      <td>33</td>\n",
              "      <td>3.714</td>\n",
              "      <td>0.105</td>\n",
              "    </tr>\n",
              "    <tr>\n",
              "      <th>2</th>\n",
              "      <td>713982108</td>\n",
              "      <td>Existing Customer</td>\n",
              "      <td>51</td>\n",
              "      <td>M</td>\n",
              "      <td>3</td>\n",
              "      <td>Graduate</td>\n",
              "      <td>Married</td>\n",
              "      <td>$80K - $120K</td>\n",
              "      <td>Blue</td>\n",
              "      <td>36</td>\n",
              "      <td>...</td>\n",
              "      <td>1</td>\n",
              "      <td>0</td>\n",
              "      <td>3418.0</td>\n",
              "      <td>0</td>\n",
              "      <td>3418.0</td>\n",
              "      <td>2.594</td>\n",
              "      <td>1887</td>\n",
              "      <td>20</td>\n",
              "      <td>2.333</td>\n",
              "      <td>0.000</td>\n",
              "    </tr>\n",
              "    <tr>\n",
              "      <th>3</th>\n",
              "      <td>769911858</td>\n",
              "      <td>Existing Customer</td>\n",
              "      <td>40</td>\n",
              "      <td>F</td>\n",
              "      <td>4</td>\n",
              "      <td>High School</td>\n",
              "      <td>Unknown</td>\n",
              "      <td>Less than $40K</td>\n",
              "      <td>Blue</td>\n",
              "      <td>34</td>\n",
              "      <td>...</td>\n",
              "      <td>4</td>\n",
              "      <td>1</td>\n",
              "      <td>3313.0</td>\n",
              "      <td>2517</td>\n",
              "      <td>796.0</td>\n",
              "      <td>1.405</td>\n",
              "      <td>1171</td>\n",
              "      <td>20</td>\n",
              "      <td>2.333</td>\n",
              "      <td>0.760</td>\n",
              "    </tr>\n",
              "    <tr>\n",
              "      <th>4</th>\n",
              "      <td>709106358</td>\n",
              "      <td>Existing Customer</td>\n",
              "      <td>40</td>\n",
              "      <td>M</td>\n",
              "      <td>3</td>\n",
              "      <td>Uneducated</td>\n",
              "      <td>Married</td>\n",
              "      <td>$60K - $80K</td>\n",
              "      <td>Blue</td>\n",
              "      <td>21</td>\n",
              "      <td>...</td>\n",
              "      <td>1</td>\n",
              "      <td>0</td>\n",
              "      <td>4716.0</td>\n",
              "      <td>0</td>\n",
              "      <td>4716.0</td>\n",
              "      <td>2.175</td>\n",
              "      <td>816</td>\n",
              "      <td>28</td>\n",
              "      <td>2.500</td>\n",
              "      <td>0.000</td>\n",
              "    </tr>\n",
              "  </tbody>\n",
              "</table>\n",
              "<p>5 rows × 21 columns</p>\n",
              "</div>"
            ],
            "text/plain": [
              "   CLIENTNUM     Attrition_Flag  Customer_Age Gender  Dependent_count  \\\n",
              "0  768805383  Existing Customer            45      M                3   \n",
              "1  818770008  Existing Customer            49      F                5   \n",
              "2  713982108  Existing Customer            51      M                3   \n",
              "3  769911858  Existing Customer            40      F                4   \n",
              "4  709106358  Existing Customer            40      M                3   \n",
              "\n",
              "  Education_Level Marital_Status Income_Category Card_Category  \\\n",
              "0     High School        Married     $60K - $80K          Blue   \n",
              "1        Graduate         Single  Less than $40K          Blue   \n",
              "2        Graduate        Married    $80K - $120K          Blue   \n",
              "3     High School        Unknown  Less than $40K          Blue   \n",
              "4      Uneducated        Married     $60K - $80K          Blue   \n",
              "\n",
              "   Months_on_book  ...  Months_Inactive_12_mon  Contacts_Count_12_mon  \\\n",
              "0              39  ...                       1                      3   \n",
              "1              44  ...                       1                      2   \n",
              "2              36  ...                       1                      0   \n",
              "3              34  ...                       4                      1   \n",
              "4              21  ...                       1                      0   \n",
              "\n",
              "   Credit_Limit  Total_Revolving_Bal  Avg_Open_To_Buy  Total_Amt_Chng_Q4_Q1  \\\n",
              "0       12691.0                  777          11914.0                 1.335   \n",
              "1        8256.0                  864           7392.0                 1.541   \n",
              "2        3418.0                    0           3418.0                 2.594   \n",
              "3        3313.0                 2517            796.0                 1.405   \n",
              "4        4716.0                    0           4716.0                 2.175   \n",
              "\n",
              "   Total_Trans_Amt  Total_Trans_Ct  Total_Ct_Chng_Q4_Q1  Avg_Utilization_Ratio  \n",
              "0             1144              42                1.625                  0.061  \n",
              "1             1291              33                3.714                  0.105  \n",
              "2             1887              20                2.333                  0.000  \n",
              "3             1171              20                2.333                  0.760  \n",
              "4              816              28                2.500                  0.000  \n",
              "\n",
              "[5 rows x 21 columns]"
            ]
          },
          "execution_count": 3,
          "metadata": {},
          "output_type": "execute_result"
        }
      ],
      "source": [
        "data.head()"
      ]
    },
    {
      "cell_type": "code",
      "execution_count": 4,
      "metadata": {
        "colab": {
          "base_uri": "https://localhost:8080/"
        },
        "id": "CWS2KRJg-bbq",
        "outputId": "2008fcca-a580-447f-afed-f65364c2678c"
      },
      "outputs": [
        {
          "data": {
            "text/plain": [
              "(10127, 21)"
            ]
          },
          "execution_count": 4,
          "metadata": {},
          "output_type": "execute_result"
        }
      ],
      "source": [
        "data.shape"
      ]
    },
    {
      "cell_type": "markdown",
      "metadata": {
        "id": "Owtg_3Tk9Zji"
      },
      "source": [
        "# EDA"
      ]
    },
    {
      "cell_type": "code",
      "execution_count": 5,
      "metadata": {},
      "outputs": [],
      "source": [
        "import matplotlib.pyplot as plt\n",
        "\n",
        "import matplotlib as mpl\n",
        "from cycler import cycler\n",
        "mpl.style.use('Solarize_Light2')\n",
        "mpl.rcParams['axes.prop_cycle'] = cycler(color=['#A6DF86', '#FEAE57', '#8AE0CA', '#E06963','#4E5AA6','#a684ab'])\n"
      ]
    },
    {
      "cell_type": "code",
      "execution_count": 6,
      "metadata": {
        "colab": {
          "base_uri": "https://localhost:8080/"
        },
        "id": "wOl5xg1U8zGp",
        "outputId": "122cfe2d-8525-4c79-d53d-82a0602f4880"
      },
      "outputs": [
        {
          "name": "stdout",
          "output_type": "stream",
          "text": [
            "<class 'pandas.core.frame.DataFrame'>\n",
            "RangeIndex: 10127 entries, 0 to 10126\n",
            "Data columns (total 21 columns):\n",
            " #   Column                    Non-Null Count  Dtype  \n",
            "---  ------                    --------------  -----  \n",
            " 0   CLIENTNUM                 10127 non-null  int64  \n",
            " 1   Attrition_Flag            10127 non-null  object \n",
            " 2   Customer_Age              10127 non-null  int64  \n",
            " 3   Gender                    10127 non-null  object \n",
            " 4   Dependent_count           10127 non-null  int64  \n",
            " 5   Education_Level           10127 non-null  object \n",
            " 6   Marital_Status            10127 non-null  object \n",
            " 7   Income_Category           10127 non-null  object \n",
            " 8   Card_Category             10127 non-null  object \n",
            " 9   Months_on_book            10127 non-null  int64  \n",
            " 10  Total_Relationship_Count  10127 non-null  int64  \n",
            " 11  Months_Inactive_12_mon    10127 non-null  int64  \n",
            " 12  Contacts_Count_12_mon     10127 non-null  int64  \n",
            " 13  Credit_Limit              10127 non-null  float64\n",
            " 14  Total_Revolving_Bal       10127 non-null  int64  \n",
            " 15  Avg_Open_To_Buy           10127 non-null  float64\n",
            " 16  Total_Amt_Chng_Q4_Q1      10127 non-null  float64\n",
            " 17  Total_Trans_Amt           10127 non-null  int64  \n",
            " 18  Total_Trans_Ct            10127 non-null  int64  \n",
            " 19  Total_Ct_Chng_Q4_Q1       10127 non-null  float64\n",
            " 20  Avg_Utilization_Ratio     10127 non-null  float64\n",
            "dtypes: float64(5), int64(10), object(6)\n",
            "memory usage: 1.6+ MB\n"
          ]
        }
      ],
      "source": [
        "data.info()"
      ]
    },
    {
      "cell_type": "markdown",
      "metadata": {},
      "source": [
        "## Existing and attrited customers"
      ]
    },
    {
      "cell_type": "markdown",
      "metadata": {},
      "source": [
        "The main characteristic of this dataset is that we have more information of existing customers than attrited customers\n"
      ]
    },
    {
      "cell_type": "code",
      "execution_count": 7,
      "metadata": {},
      "outputs": [
        {
          "data": {
            "image/png": "[encoded data removed]",
            "text/plain": [
              "<Figure size 640x480 with 1 Axes>"
            ]
          },
          "metadata": {},
          "output_type": "display_data"
        }
      ],
      "source": [
        "labels = data['Attrition_Flag'].unique()\n",
        "plt.pie(data['Attrition_Flag'].value_counts(), labels = labels, autopct='%1.1f%%')\n",
        "plt.show()"
      ]
    },
    {
      "cell_type": "markdown",
      "metadata": {
        "id": "Bdk7vQnu-3mW"
      },
      "source": [
        "## Customer Age"
      ]
    },
    {
      "cell_type": "code",
      "execution_count": 8,
      "metadata": {},
      "outputs": [
        {
          "data": {
            "image/png": "[encoded data removed]",
            "text/plain": [
              "<Figure size 1000x500 with 1 Axes>"
            ]
          },
          "metadata": {},
          "output_type": "display_data"
        }
      ],
      "source": [
        "plt.figure(figsize=(10, 5))\n",
        "plt.hist(data['Customer_Age'], bins = 46 , )\n",
        "plt.xticks(np.arange(26,74,1))\n",
        "plt.show()"
      ]
    },
    {
      "cell_type": "code",
      "execution_count": 9,
      "metadata": {},
      "outputs": [
        {
          "data": {
            "text/plain": [
              "<Figure size 640x480 with 0 Axes>"
            ]
          },
          "metadata": {},
          "output_type": "display_data"
        },
        {
          "data": {
            "image/png": "[encoded data removed]",
            "text/plain": [
              "<Figure size 1000x500 with 2 Axes>"
            ]
          },
          "metadata": {},
          "output_type": "display_data"
        }
      ],
      "source": [
        "E_customer_age = data.loc[:,['Customer_Age']][data.Attrition_Flag == 'Existing Customer']\n",
        "A_customer_age = data.loc[:,['Customer_Age']][data.Attrition_Flag != 'Existing Customer']\n",
        "\n",
        "plt.figure()\n",
        "\n",
        "fig, axs = plt.subplots(1, 2, sharey=True, tight_layout=True , figsize = (10,5)  )\n",
        "\n",
        "axs[0].set_title('Existing customer age distribution')\n",
        "axs[0].hist(E_customer_age, bins=len(E_customer_age.iloc[:,0].unique()))\n",
        "axs[1].set_title('Attrited customer age distribution')\n",
        "axs[1].hist(A_customer_age, bins=len(A_customer_age.iloc[:,0].unique()))\n",
        "\n",
        "plt.show()"
      ]
    },
    {
      "cell_type": "markdown",
      "metadata": {},
      "source": [
        "## Gender"
      ]
    },
    {
      "cell_type": "markdown",
      "metadata": {},
      "source": [
        "If we look upon the gender of the customers in the dataset, it is balanced."
      ]
    },
    {
      "cell_type": "code",
      "execution_count": 10,
      "metadata": {},
      "outputs": [
        {
          "data": {
            "image/png": "[encoded data removed]",
            "text/plain": [
              "<Figure size 640x480 with 1 Axes>"
            ]
          },
          "metadata": {},
          "output_type": "display_data"
        }
      ],
      "source": [
        "labels = 'F' , 'M'\n",
        "plt.pie(data['Gender'].value_counts(), labels = labels, autopct='%1.1f%%')\n",
        "plt.title('Gender')\n",
        "plt.show()\n"
      ]
    },
    {
      "cell_type": "code",
      "execution_count": 11,
      "metadata": {},
      "outputs": [],
      "source": [
        "E_customer_gender = data.loc[:,['Gender']][data.Attrition_Flag == 'Existing Customer']\n",
        "A_customer_gender = data.loc[:,['Gender']][data.Attrition_Flag != 'Existing Customer']\n"
      ]
    },
    {
      "cell_type": "code",
      "execution_count": 12,
      "metadata": {},
      "outputs": [
        {
          "data": {
            "image/png": "[encoded data removed]",
            "text/plain": [
              "<Figure size 640x480 with 2 Axes>"
            ]
          },
          "metadata": {},
          "output_type": "display_data"
        }
      ],
      "source": [
        "fig, ax = plt.subplots(1,2)\n",
        "labels = 'F' , 'M'\n",
        "ax[0].pie(E_customer_gender.iloc[:,0].value_counts(), labels=labels,autopct='%1.1f%%')\n",
        "ax[1].pie(A_customer_gender.iloc[:,0].value_counts(), labels=labels,autopct='%1.1f%%')\n",
        "ax[0].set_title('Existing Customers')\n",
        "ax[1].set_title('Attrited Customers')\n",
        "\n",
        "plt.show()"
      ]
    },
    {
      "cell_type": "markdown",
      "metadata": {},
      "source": [
        "## Dependant count"
      ]
    },
    {
      "cell_type": "code",
      "execution_count": 13,
      "metadata": {},
      "outputs": [
        {
          "data": {
            "image/png": "[encoded data removed]",
            "text/plain": [
              "<Figure size 640x480 with 1 Axes>"
            ]
          },
          "metadata": {},
          "output_type": "display_data"
        }
      ],
      "source": [
        "labels = data['Dependent_count'].value_counts().index\n",
        "plt.pie(data['Dependent_count'].value_counts(), labels = labels, autopct='%1.1f%%')\n",
        "plt.title('Numero de dependientes')\n",
        "plt.show()"
      ]
    },
    {
      "cell_type": "markdown",
      "metadata": {},
      "source": [
        "## Education level"
      ]
    },
    {
      "cell_type": "code",
      "execution_count": 14,
      "metadata": {},
      "outputs": [
        {
          "data": {
            "image/png": "[encoded data removed]",
            "text/plain": [
              "<Figure size 640x480 with 1 Axes>"
            ]
          },
          "metadata": {},
          "output_type": "display_data"
        }
      ],
      "source": [
        "labels = data['Education_Level'].value_counts().index\n",
        "plt.pie(data['Education_Level'].value_counts(), labels = labels, autopct='%1.1f%%')\n",
        "plt.title('Education Level')\n",
        "plt.show()"
      ]
    },
    {
      "cell_type": "markdown",
      "metadata": {},
      "source": [
        "**In the next Features we want to focus at their distribution**"
      ]
    },
    {
      "cell_type": "markdown",
      "metadata": {},
      "source": [
        "## Months on book\n"
      ]
    },
    {
      "cell_type": "code",
      "execution_count": 15,
      "metadata": {},
      "outputs": [
        {
          "data": {
            "image/png": "[encoded data removed]",
            "text/plain": [
              "<Figure size 1000x500 with 1 Axes>"
            ]
          },
          "metadata": {},
          "output_type": "display_data"
        }
      ],
      "source": [
        "plt.figure(figsize=(10, 5))\n",
        "plt.hist(data['Months_on_book'], bins = 43 , )\n",
        "plt.xticks(np.arange(data['Months_on_book'].min(),data['Months_on_book'].max() +1 ,1))\n",
        "plt.show()"
      ]
    },
    {
      "cell_type": "markdown",
      "metadata": {},
      "source": [
        "## Total relationship count"
      ]
    },
    {
      "cell_type": "code",
      "execution_count": 16,
      "metadata": {},
      "outputs": [
        {
          "data": {
            "image/png": "[encoded data removed]",
            "text/plain": [
              "<Figure size 1000x500 with 1 Axes>"
            ]
          },
          "metadata": {},
          "output_type": "display_data"
        }
      ],
      "source": [
        "plt.figure(figsize=(10, 5))\n",
        "plt.hist(data['Total_Relationship_Count'], bins = 6 ,  )\n",
        "plt.xticks(np.arange(data['Total_Relationship_Count'].min(),data['Total_Relationship_Count'].max() +1 ,1))\n",
        "plt.show()"
      ]
    },
    {
      "cell_type": "markdown",
      "metadata": {},
      "source": [
        "## Total_Revolving_Bal"
      ]
    },
    {
      "cell_type": "code",
      "execution_count": 17,
      "metadata": {},
      "outputs": [],
      "source": [
        "total_rev_cut = pd.cut(data['Total_Revolving_Bal'], 20).value_counts().sort_index()"
      ]
    },
    {
      "cell_type": "code",
      "execution_count": 18,
      "metadata": {},
      "outputs": [
        {
          "data": {
            "image/png": "[encoded data removed]",
            "text/plain": [
              "<Figure size 1000x600 with 1 Axes>"
            ]
          },
          "metadata": {},
          "output_type": "display_data"
        }
      ],
      "source": [
        "plt.figure(figsize=(10, 6))\n",
        "total_rev_cut.plot(kind='bar')\n",
        "plt.title('Total_Revolving_Bal (Binned)')\n",
        "plt.xlabel('Total_Revolving_Bal Bins')\n",
        "plt.ylabel('Frequency')\n",
        "plt.xticks(rotation=45)\n",
        "plt.grid(axis='y', linestyle='--')\n",
        "plt.show()"
      ]
    },
    {
      "cell_type": "markdown",
      "metadata": {},
      "source": [
        "## Avg_open_to buy\n"
      ]
    },
    {
      "cell_type": "code",
      "execution_count": 19,
      "metadata": {},
      "outputs": [
        {
          "data": {
            "image/png": "[encoded data removed]",
            "text/plain": [
              "<Figure size 1000x600 with 1 Axes>"
            ]
          },
          "metadata": {},
          "output_type": "display_data"
        }
      ],
      "source": [
        "total_rev_cut = pd.cut(data['Avg_Open_To_Buy'], 20).value_counts().sort_index()\n",
        "plt.figure(figsize=(10, 6))\n",
        "total_rev_cut.plot(kind='bar')\n",
        "plt.title('Avg_Open_To_Buy (Binned)')\n",
        "plt.xlabel('Avg_Open_To_Buy Bins')\n",
        "plt.ylabel('Frequency')\n",
        "plt.xticks(rotation=45)\n",
        "plt.grid(axis='y', linestyle='--')\n",
        "plt.show()"
      ]
    },
    {
      "cell_type": "markdown",
      "metadata": {},
      "source": [
        "## Total transaction amount"
      ]
    },
    {
      "cell_type": "code",
      "execution_count": 20,
      "metadata": {},
      "outputs": [
        {
          "data": {
            "image/png": "[encoded data removed]",
            "text/plain": [
              "<Figure size 1000x600 with 1 Axes>"
            ]
          },
          "metadata": {},
          "output_type": "display_data"
        }
      ],
      "source": [
        "total_rev_cut = pd.cut(data['Total_Trans_Amt'], 20).value_counts().sort_index()\n",
        "plt.figure(figsize=(10, 6))\n",
        "total_rev_cut.plot(kind='bar')\n",
        "plt.title('Total_Trans_Amt (Binned)')\n",
        "plt.xlabel('Total_Trans_Amt Bins')\n",
        "plt.ylabel('Frequency')\n",
        "plt.xticks(rotation=45)\n",
        "plt.grid(axis='y', linestyle='--')\n",
        "plt.show()"
      ]
    },
    {
      "cell_type": "markdown",
      "metadata": {},
      "source": [
        "## Total transaction count"
      ]
    },
    {
      "cell_type": "code",
      "execution_count": 21,
      "metadata": {},
      "outputs": [
        {
          "data": {
            "image/png": "[encoded data removed]",
            "text/plain": [
              "<Figure size 1000x600 with 1 Axes>"
            ]
          },
          "metadata": {},
          "output_type": "display_data"
        }
      ],
      "source": [
        "total_rev_cut = pd.cut(data['Total_Trans_Ct'], 20).value_counts().sort_index()\n",
        "plt.figure(figsize=(10, 6))\n",
        "total_rev_cut.plot(kind='bar')\n",
        "plt.title('Total_Trans_Amt (Binned)')\n",
        "plt.xlabel('Total_Trans_Amt Bins')\n",
        "plt.ylabel('Frequency')\n",
        "plt.xticks(rotation=45)\n",
        "plt.grid(axis='y', linestyle='--')\n",
        "plt.show()"
      ]
    },
    {
      "cell_type": "markdown",
      "metadata": {},
      "source": [
        "## Columns unique values\n",
        "Knowing the number of unique values of a column we can identifie categorical attributes and if we can encode them."
      ]
    },
    {
      "cell_type": "code",
      "execution_count": 22,
      "metadata": {
        "colab": {
          "base_uri": "https://localhost:8080/",
          "height": 708
        },
        "id": "_iFUD55X9dfS",
        "outputId": "7460b601-4460-4e46-a7d6-95b3be155ea7"
      },
      "outputs": [
        {
          "data": {
            "application/vnd.microsoft.datawrangler.viewer.v0+json": {
              "columns": [
                {
                  "name": "index",
                  "rawType": "int64",
                  "type": "integer"
                },
                {
                  "name": "Column name",
                  "rawType": "object",
                  "type": "string"
                },
                {
                  "name": "Number of unique values",
                  "rawType": "int64",
                  "type": "integer"
                }
              ],
              "conversionMethod": "pd.DataFrame",
              "ref": "d2c52c6d-b47b-4cbb-92e2-779d97c31ad0",
              "rows": [
                [
                  "0",
                  "CLIENTNUM",
                  "10127"
                ],
                [
                  "1",
                  "Attrition_Flag",
                  "2"
                ],
                [
                  "2",
                  "Customer_Age",
                  "45"
                ],
                [
                  "3",
                  "Gender",
                  "2"
                ],
                [
                  "4",
                  "Dependent_count",
                  "6"
                ],
                [
                  "5",
                  "Education_Level",
                  "7"
                ],
                [
                  "6",
                  "Marital_Status",
                  "4"
                ],
                [
                  "7",
                  "Income_Category",
                  "6"
                ],
                [
                  "8",
                  "Card_Category",
                  "4"
                ],
                [
                  "9",
                  "Months_on_book",
                  "44"
                ],
                [
                  "10",
                  "Total_Relationship_Count",
                  "6"
                ],
                [
                  "11",
                  "Months_Inactive_12_mon",
                  "7"
                ],
                [
                  "12",
                  "Contacts_Count_12_mon",
                  "7"
                ],
                [
                  "13",
                  "Credit_Limit",
                  "6205"
                ],
                [
                  "14",
                  "Total_Revolving_Bal",
                  "1974"
                ],
                [
                  "15",
                  "Avg_Open_To_Buy",
                  "6813"
                ],
                [
                  "16",
                  "Total_Amt_Chng_Q4_Q1",
                  "1158"
                ],
                [
                  "17",
                  "Total_Trans_Amt",
                  "5033"
                ],
                [
                  "18",
                  "Total_Trans_Ct",
                  "126"
                ],
                [
                  "19",
                  "Total_Ct_Chng_Q4_Q1",
                  "830"
                ],
                [
                  "20",
                  "Avg_Utilization_Ratio",
                  "964"
                ]
              ],
              "shape": {
                "columns": 2,
                "rows": 21
              }
            },
            "text/html": [
              "<div>\n",
              "<style scoped>\n",
              "    .dataframe tbody tr th:only-of-type {\n",
              "        vertical-align: middle;\n",
              "    }\n",
              "\n",
              "    .dataframe tbody tr th {\n",
              "        vertical-align: top;\n",
              "    }\n",
              "\n",
              "    .dataframe thead th {\n",
              "        text-align: right;\n",
              "    }\n",
              "</style>\n",
              "<table border=\"1\" class=\"dataframe\">\n",
              "  <thead>\n",
              "    <tr style=\"text-align: right;\">\n",
              "      <th></th>\n",
              "      <th>Column name</th>\n",
              "      <th>Number of unique values</th>\n",
              "    </tr>\n",
              "  </thead>\n",
              "  <tbody>\n",
              "    <tr>\n",
              "      <th>0</th>\n",
              "      <td>CLIENTNUM</td>\n",
              "      <td>10127</td>\n",
              "    </tr>\n",
              "    <tr>\n",
              "      <th>1</th>\n",
              "      <td>Attrition_Flag</td>\n",
              "      <td>2</td>\n",
              "    </tr>\n",
              "    <tr>\n",
              "      <th>2</th>\n",
              "      <td>Customer_Age</td>\n",
              "      <td>45</td>\n",
              "    </tr>\n",
              "    <tr>\n",
              "      <th>3</th>\n",
              "      <td>Gender</td>\n",
              "      <td>2</td>\n",
              "    </tr>\n",
              "    <tr>\n",
              "      <th>4</th>\n",
              "      <td>Dependent_count</td>\n",
              "      <td>6</td>\n",
              "    </tr>\n",
              "    <tr>\n",
              "      <th>5</th>\n",
              "      <td>Education_Level</td>\n",
              "      <td>7</td>\n",
              "    </tr>\n",
              "    <tr>\n",
              "      <th>6</th>\n",
              "      <td>Marital_Status</td>\n",
              "      <td>4</td>\n",
              "    </tr>\n",
              "    <tr>\n",
              "      <th>7</th>\n",
              "      <td>Income_Category</td>\n",
              "      <td>6</td>\n",
              "    </tr>\n",
              "    <tr>\n",
              "      <th>8</th>\n",
              "      <td>Card_Category</td>\n",
              "      <td>4</td>\n",
              "    </tr>\n",
              "    <tr>\n",
              "      <th>9</th>\n",
              "      <td>Months_on_book</td>\n",
              "      <td>44</td>\n",
              "    </tr>\n",
              "    <tr>\n",
              "      <th>10</th>\n",
              "      <td>Total_Relationship_Count</td>\n",
              "      <td>6</td>\n",
              "    </tr>\n",
              "    <tr>\n",
              "      <th>11</th>\n",
              "      <td>Months_Inactive_12_mon</td>\n",
              "      <td>7</td>\n",
              "    </tr>\n",
              "    <tr>\n",
              "      <th>12</th>\n",
              "      <td>Contacts_Count_12_mon</td>\n",
              "      <td>7</td>\n",
              "    </tr>\n",
              "    <tr>\n",
              "      <th>13</th>\n",
              "      <td>Credit_Limit</td>\n",
              "      <td>6205</td>\n",
              "    </tr>\n",
              "    <tr>\n",
              "      <th>14</th>\n",
              "      <td>Total_Revolving_Bal</td>\n",
              "      <td>1974</td>\n",
              "    </tr>\n",
              "    <tr>\n",
              "      <th>15</th>\n",
              "      <td>Avg_Open_To_Buy</td>\n",
              "      <td>6813</td>\n",
              "    </tr>\n",
              "    <tr>\n",
              "      <th>16</th>\n",
              "      <td>Total_Amt_Chng_Q4_Q1</td>\n",
              "      <td>1158</td>\n",
              "    </tr>\n",
              "    <tr>\n",
              "      <th>17</th>\n",
              "      <td>Total_Trans_Amt</td>\n",
              "      <td>5033</td>\n",
              "    </tr>\n",
              "    <tr>\n",
              "      <th>18</th>\n",
              "      <td>Total_Trans_Ct</td>\n",
              "      <td>126</td>\n",
              "    </tr>\n",
              "    <tr>\n",
              "      <th>19</th>\n",
              "      <td>Total_Ct_Chng_Q4_Q1</td>\n",
              "      <td>830</td>\n",
              "    </tr>\n",
              "    <tr>\n",
              "      <th>20</th>\n",
              "      <td>Avg_Utilization_Ratio</td>\n",
              "      <td>964</td>\n",
              "    </tr>\n",
              "  </tbody>\n",
              "</table>\n",
              "</div>"
            ],
            "text/plain": [
              "                 Column name  Number of unique values\n",
              "0                  CLIENTNUM                    10127\n",
              "1             Attrition_Flag                        2\n",
              "2               Customer_Age                       45\n",
              "3                     Gender                        2\n",
              "4            Dependent_count                        6\n",
              "5            Education_Level                        7\n",
              "6             Marital_Status                        4\n",
              "7            Income_Category                        6\n",
              "8              Card_Category                        4\n",
              "9             Months_on_book                       44\n",
              "10  Total_Relationship_Count                        6\n",
              "11    Months_Inactive_12_mon                        7\n",
              "12     Contacts_Count_12_mon                        7\n",
              "13              Credit_Limit                     6205\n",
              "14       Total_Revolving_Bal                     1974\n",
              "15           Avg_Open_To_Buy                     6813\n",
              "16      Total_Amt_Chng_Q4_Q1                     1158\n",
              "17           Total_Trans_Amt                     5033\n",
              "18            Total_Trans_Ct                      126\n",
              "19       Total_Ct_Chng_Q4_Q1                      830\n",
              "20     Avg_Utilization_Ratio                      964"
            ]
          },
          "execution_count": 22,
          "metadata": {},
          "output_type": "execute_result"
        }
      ],
      "source": [
        "columns_unique = []\n",
        "for i in data.columns:\n",
        "  columns_unique.append(len(data[i].unique()))\n",
        "columns_unique_pd = pd.DataFrame({'Column name' : data.columns,'Number of unique values' : columns_unique})\n",
        "columns_unique_pd"
      ]
    },
    {
      "cell_type": "markdown",
      "metadata": {},
      "source": [
        "## Standardization\n",
        "\n",
        "The numerical attributes have different scale, so we need to see how different are the scales and identifie wich attributes need to be modify in order to be in a similar scale with the others.\n",
        "\n",
        "For feature scaling we will be using two different approaches:\n",
        "* Standardization\n",
        "* Log + Standardization\n",
        "\n",
        "The follow dataframe with the max and min values for column can give us an idea of the scale of every feature.\n",
        "\n",
        "To decide the aprouch we need to see the distribution of the attribute values to decide whether we use standarization or log + standarization, we use the second if we have a big max values or a non-gaussian distribution\n",
        "\n"
      ]
    },
    {
      "cell_type": "code",
      "execution_count": 23,
      "metadata": {},
      "outputs": [
        {
          "data": {
            "application/vnd.microsoft.datawrangler.viewer.v0+json": {
              "columns": [
                {
                  "name": "index",
                  "rawType": "int64",
                  "type": "integer"
                },
                {
                  "name": "Column name",
                  "rawType": "object",
                  "type": "string"
                },
                {
                  "name": "Column min",
                  "rawType": "float64",
                  "type": "float"
                },
                {
                  "name": "Column max",
                  "rawType": "float64",
                  "type": "float"
                }
              ],
              "conversionMethod": "pd.DataFrame",
              "ref": "deb9d433-2282-41b9-8afb-039dc072c401",
              "rows": [
                [
                  "0",
                  "CLIENTNUM",
                  "708082083.0",
                  "828343083.0"
                ],
                [
                  "1",
                  "Customer_Age",
                  "26.0",
                  "73.0"
                ],
                [
                  "2",
                  "Dependent_count",
                  "0.0",
                  "5.0"
                ],
                [
                  "3",
                  "Months_on_book",
                  "13.0",
                  "56.0"
                ],
                [
                  "4",
                  "Total_Relationship_Count",
                  "1.0",
                  "6.0"
                ],
                [
                  "5",
                  "Months_Inactive_12_mon",
                  "0.0",
                  "6.0"
                ],
                [
                  "6",
                  "Contacts_Count_12_mon",
                  "0.0",
                  "6.0"
                ],
                [
                  "7",
                  "Credit_Limit",
                  "1438.3",
                  "34516.0"
                ],
                [
                  "8",
                  "Total_Revolving_Bal",
                  "0.0",
                  "2517.0"
                ],
                [
                  "9",
                  "Avg_Open_To_Buy",
                  "3.0",
                  "34516.0"
                ],
                [
                  "10",
                  "Total_Amt_Chng_Q4_Q1",
                  "0.0",
                  "3.397"
                ],
                [
                  "11",
                  "Total_Trans_Amt",
                  "510.0",
                  "18484.0"
                ],
                [
                  "12",
                  "Total_Trans_Ct",
                  "10.0",
                  "139.0"
                ],
                [
                  "13",
                  "Total_Ct_Chng_Q4_Q1",
                  "0.0",
                  "3.714"
                ],
                [
                  "14",
                  "Avg_Utilization_Ratio",
                  "0.0",
                  "0.999"
                ]
              ],
              "shape": {
                "columns": 3,
                "rows": 15
              }
            },
            "text/html": [
              "<div>\n",
              "<style scoped>\n",
              "    .dataframe tbody tr th:only-of-type {\n",
              "        vertical-align: middle;\n",
              "    }\n",
              "\n",
              "    .dataframe tbody tr th {\n",
              "        vertical-align: top;\n",
              "    }\n",
              "\n",
              "    .dataframe thead th {\n",
              "        text-align: right;\n",
              "    }\n",
              "</style>\n",
              "<table border=\"1\" class=\"dataframe\">\n",
              "  <thead>\n",
              "    <tr style=\"text-align: right;\">\n",
              "      <th></th>\n",
              "      <th>Column name</th>\n",
              "      <th>Column min</th>\n",
              "      <th>Column max</th>\n",
              "    </tr>\n",
              "  </thead>\n",
              "  <tbody>\n",
              "    <tr>\n",
              "      <th>0</th>\n",
              "      <td>CLIENTNUM</td>\n",
              "      <td>708082083.0</td>\n",
              "      <td>8.283431e+08</td>\n",
              "    </tr>\n",
              "    <tr>\n",
              "      <th>1</th>\n",
              "      <td>Customer_Age</td>\n",
              "      <td>26.0</td>\n",
              "      <td>7.300000e+01</td>\n",
              "    </tr>\n",
              "    <tr>\n",
              "      <th>2</th>\n",
              "      <td>Dependent_count</td>\n",
              "      <td>0.0</td>\n",
              "      <td>5.000000e+00</td>\n",
              "    </tr>\n",
              "    <tr>\n",
              "      <th>3</th>\n",
              "      <td>Months_on_book</td>\n",
              "      <td>13.0</td>\n",
              "      <td>5.600000e+01</td>\n",
              "    </tr>\n",
              "    <tr>\n",
              "      <th>4</th>\n",
              "      <td>Total_Relationship_Count</td>\n",
              "      <td>1.0</td>\n",
              "      <td>6.000000e+00</td>\n",
              "    </tr>\n",
              "    <tr>\n",
              "      <th>5</th>\n",
              "      <td>Months_Inactive_12_mon</td>\n",
              "      <td>0.0</td>\n",
              "      <td>6.000000e+00</td>\n",
              "    </tr>\n",
              "    <tr>\n",
              "      <th>6</th>\n",
              "      <td>Contacts_Count_12_mon</td>\n",
              "      <td>0.0</td>\n",
              "      <td>6.000000e+00</td>\n",
              "    </tr>\n",
              "    <tr>\n",
              "      <th>7</th>\n",
              "      <td>Credit_Limit</td>\n",
              "      <td>1438.3</td>\n",
              "      <td>3.451600e+04</td>\n",
              "    </tr>\n",
              "    <tr>\n",
              "      <th>8</th>\n",
              "      <td>Total_Revolving_Bal</td>\n",
              "      <td>0.0</td>\n",
              "      <td>2.517000e+03</td>\n",
              "    </tr>\n",
              "    <tr>\n",
              "      <th>9</th>\n",
              "      <td>Avg_Open_To_Buy</td>\n",
              "      <td>3.0</td>\n",
              "      <td>3.451600e+04</td>\n",
              "    </tr>\n",
              "    <tr>\n",
              "      <th>10</th>\n",
              "      <td>Total_Amt_Chng_Q4_Q1</td>\n",
              "      <td>0.0</td>\n",
              "      <td>3.397000e+00</td>\n",
              "    </tr>\n",
              "    <tr>\n",
              "      <th>11</th>\n",
              "      <td>Total_Trans_Amt</td>\n",
              "      <td>510.0</td>\n",
              "      <td>1.848400e+04</td>\n",
              "    </tr>\n",
              "    <tr>\n",
              "      <th>12</th>\n",
              "      <td>Total_Trans_Ct</td>\n",
              "      <td>10.0</td>\n",
              "      <td>1.390000e+02</td>\n",
              "    </tr>\n",
              "    <tr>\n",
              "      <th>13</th>\n",
              "      <td>Total_Ct_Chng_Q4_Q1</td>\n",
              "      <td>0.0</td>\n",
              "      <td>3.714000e+00</td>\n",
              "    </tr>\n",
              "    <tr>\n",
              "      <th>14</th>\n",
              "      <td>Avg_Utilization_Ratio</td>\n",
              "      <td>0.0</td>\n",
              "      <td>9.990000e-01</td>\n",
              "    </tr>\n",
              "  </tbody>\n",
              "</table>\n",
              "</div>"
            ],
            "text/plain": [
              "                 Column name   Column min    Column max\n",
              "0                  CLIENTNUM  708082083.0  8.283431e+08\n",
              "1               Customer_Age         26.0  7.300000e+01\n",
              "2            Dependent_count          0.0  5.000000e+00\n",
              "3             Months_on_book         13.0  5.600000e+01\n",
              "4   Total_Relationship_Count          1.0  6.000000e+00\n",
              "5     Months_Inactive_12_mon          0.0  6.000000e+00\n",
              "6      Contacts_Count_12_mon          0.0  6.000000e+00\n",
              "7               Credit_Limit       1438.3  3.451600e+04\n",
              "8        Total_Revolving_Bal          0.0  2.517000e+03\n",
              "9            Avg_Open_To_Buy          3.0  3.451600e+04\n",
              "10      Total_Amt_Chng_Q4_Q1          0.0  3.397000e+00\n",
              "11           Total_Trans_Amt        510.0  1.848400e+04\n",
              "12            Total_Trans_Ct         10.0  1.390000e+02\n",
              "13       Total_Ct_Chng_Q4_Q1          0.0  3.714000e+00\n",
              "14     Avg_Utilization_Ratio          0.0  9.990000e-01"
            ]
          },
          "execution_count": 23,
          "metadata": {},
          "output_type": "execute_result"
        }
      ],
      "source": [
        "columns_min = []\n",
        "columns_max = []\n",
        "columns_nonobj =['CLIENTNUM', 'Customer_Age', 'Dependent_count', 'Months_on_book',\n",
        "       'Total_Relationship_Count', 'Months_Inactive_12_mon',\n",
        "       'Contacts_Count_12_mon', 'Credit_Limit', 'Total_Revolving_Bal',\n",
        "       'Avg_Open_To_Buy', 'Total_Amt_Chng_Q4_Q1', 'Total_Trans_Amt',\n",
        "       'Total_Trans_Ct', 'Total_Ct_Chng_Q4_Q1', 'Avg_Utilization_Ratio']\n",
        "for i in columns_nonobj :\n",
        "  columns_min.append(data[i].min())\n",
        "  columns_max.append(data[i].max())\n",
        "columns_min_max = pd.DataFrame({'Column name' : columns_nonobj,\n",
        "                                'Column min' : columns_min,\n",
        "                                'Column max' : columns_max})\n",
        "columns_min_max"
      ]
    },
    {
      "cell_type": "markdown",
      "metadata": {},
      "source": []
    },
    {
      "cell_type": "markdown",
      "metadata": {},
      "source": [
        "# Data pre process"
      ]
    },
    {
      "cell_type": "code",
      "execution_count": 24,
      "metadata": {},
      "outputs": [],
      "source": [
        "data_2 = data.drop(['CLIENTNUM'],axis = 1).copy() # Eliminate the column CLIENTNUM\n",
        "data_2 =data_2[~data_2.isin(['Unknown']).any(axis=1)] #Eliminate Unknown values"
      ]
    },
    {
      "cell_type": "markdown",
      "metadata": {},
      "source": [
        "## Ordinal encoder"
      ]
    },
    {
      "cell_type": "markdown",
      "metadata": {},
      "source": [
        "In this part we convert the categories of the categorical attributes from text to numbers."
      ]
    },
    {
      "cell_type": "code",
      "execution_count": 25,
      "metadata": {},
      "outputs": [],
      "source": [
        "from sklearn.preprocessing import OrdinalEncoder\n",
        "ordinal_encoder = OrdinalEncoder()"
      ]
    },
    {
      "cell_type": "code",
      "execution_count": 26,
      "metadata": {},
      "outputs": [],
      "source": [
        "#Ordinale encode of the features \n",
        "## Attrition_Flag\n",
        "Att_Flag_cat = ['Existing Customer', 'Attrited Customer']\n",
        "data_2['Attrition_Flag'] =  OrdinalEncoder(categories=[Att_Flag_cat]).fit_transform(data_2.loc[:,'Attrition_Flag':'Attrition_Flag'])\n",
        "## Gender\n",
        "data_2['Gender'] = ordinal_encoder.fit_transform(data_2.loc[:,'Gender':'Gender'])\n",
        "Gender_cat = ordinal_encoder.categories_\n",
        "## Income\n",
        "income_cat = ['Less than $40K', '$40K - $60K', '$60K - $80K', '$80K - $120K','$120K +']\n",
        "data_2['Income_Category'] = OrdinalEncoder(categories=[income_cat]).fit_transform(data_2.loc[:,'Income_Category':'Income_Category'])\n",
        "## Education Level\n",
        "edu_level_cat = ['Uneducated','High School','College', 'Graduate','Post-Graduate', 'Doctorate']\n",
        "data_2['Education_Level'] = OrdinalEncoder(categories=[edu_level_cat]).fit_transform(data_2.loc[:,'Education_Level':'Education_Level'])\n",
        "## Card categories\n",
        "card_cat_cat = ['Blue', 'Gold', 'Silver', 'Platinum']\n",
        "data_2['Card_Category'] = OrdinalEncoder(categories=[card_cat_cat]).fit_transform(data_2.loc[:,'Card_Category':'Card_Category'])\n",
        "## Marital status\n",
        "marital_st_cat = ['Single','Married','Divorced']\n",
        "data_2['Marital_Status'] = OrdinalEncoder(categories=[marital_st_cat]).fit_transform(data_2.loc[:,'Marital_Status':'Marital_Status'])"
      ]
    },
    {
      "cell_type": "markdown",
      "metadata": {},
      "source": [
        "## Feature Scaling"
      ]
    },
    {
      "cell_type": "markdown",
      "metadata": {},
      "source": [
        "Previously we talked about two approaches for feauture scaling, in this part those are implemented.\n",
        "\n",
        "Also we split the data set in two, the train and the test set to implement the standardization."
      ]
    },
    {
      "cell_type": "code",
      "execution_count": 27,
      "metadata": {},
      "outputs": [],
      "source": [
        "from sklearn.model_selection import train_test_split\n",
        "X_train, X_test, y_train, y_test = train_test_split(data_2.iloc[:,1:],\n",
        "                                                    data_2['Attrition_Flag'],\n",
        "                                                    test_size = 0.33,\n",
        "                                                    random_state = 42)"
      ]
    },
    {
      "cell_type": "code",
      "execution_count": 28,
      "metadata": {},
      "outputs": [],
      "source": [
        "from sklearn.preprocessing import FunctionTransformer, StandardScaler\n",
        "from sklearn.pipeline import Pipeline\n",
        "\n",
        "\n",
        "std_log_pipe = Pipeline([\n",
        "    ('log', FunctionTransformer(np.log)),  # Pipeline for \"Log + Standardization\"\n",
        "    ('scaler', StandardScaler())  \n",
        "])\n",
        "\n",
        "std_pipe = Pipeline([\n",
        "    ('scaler', StandardScaler()) # Pipeline for \"Standardization\"\n",
        "])\n",
        "X_train[['Credit_Limit','Avg_Open_To_Buy','Total_Trans_Amt']] = std_log_pipe.fit_transform(X_train[['Credit_Limit','Avg_Open_To_Buy','Total_Trans_Amt']])\n",
        "X_test[['Credit_Limit','Avg_Open_To_Buy','Total_Trans_Amt']] = std_log_pipe.transform(X_test[['Credit_Limit','Avg_Open_To_Buy','Total_Trans_Amt']])\n",
        "X_train[['Total_Revolving_Bal','Total_Trans_Ct']] = std_pipe.fit_transform(X_train[['Total_Revolving_Bal','Total_Trans_Ct']])\n",
        "X_test[['Total_Revolving_Bal','Total_Trans_Ct']] = std_pipe.transform(X_test[['Total_Revolving_Bal','Total_Trans_Ct']])"
      ]
    },
    {
      "cell_type": "markdown",
      "metadata": {},
      "source": [
        "# Model selection and evaluation"
      ]
    },
    {
      "cell_type": "markdown",
      "metadata": {},
      "source": [
        "We need to be sure if the model we are using is the best for our case, so in order to get the best model it is important to train and evaluate different models.\n",
        "\n",
        "To evaluate models, because this is a binary classification problem, we'll be using the follow metrics.\n",
        "\n",
        "* F1 Score\n",
        "* Precision/Recall Scores\n",
        "* Confusion Matrix\n",
        "* ROC AUC Score"
      ]
    },
    {
      "cell_type": "markdown",
      "metadata": {},
      "source": [
        "## Machine Learning models"
      ]
    },
    {
      "cell_type": "code",
      "execution_count": 29,
      "metadata": {},
      "outputs": [],
      "source": [
        "from sklearn.linear_model import LogisticRegression, SGDClassifier,LogisticRegressionCV\n",
        "from sklearn.svm import SVC\n",
        "from sklearn.model_selection import cross_val_predict , cross_val_score\n",
        "from sklearn.metrics import confusion_matrix\n",
        "from sklearn.metrics import f1_score, precision_score, recall_score, confusion_matrix , roc_auc_score, roc_auc_score ,  ConfusionMatrixDisplay\n"
      ]
    },
    {
      "cell_type": "code",
      "execution_count": 30,
      "metadata": {},
      "outputs": [
        {
          "data": {
            "text/html": [
              "<style>#sk-container-id-1 {\n",
              "  /* Definition of color scheme common for light and dark mode */\n",
              "  --sklearn-color-text: black;\n",
              "  --sklearn-color-line: gray;\n",
              "  /* Definition of color scheme for unfitted estimators */\n",
              "  --sklearn-color-unfitted-level-0: #fff5e6;\n",
              "  --sklearn-color-unfitted-level-1: #f6e4d2;\n",
              "  --sklearn-color-unfitted-level-2: #ffe0b3;\n",
              "  --sklearn-color-unfitted-level-3: chocolate;\n",
              "  /* Definition of color scheme for fitted estimators */\n",
              "  --sklearn-color-fitted-level-0: #f0f8ff;\n",
              "  --sklearn-color-fitted-level-1: #d4ebff;\n",
              "  --sklearn-color-fitted-level-2: #b3dbfd;\n",
              "  --sklearn-color-fitted-level-3: cornflowerblue;\n",
              "\n",
              "  /* Specific color for light theme */\n",
              "  --sklearn-color-text-on-default-background: var(--sg-text-color, var(--theme-code-foreground, var(--jp-content-font-color1, black)));\n",
              "  --sklearn-color-background: var(--sg-background-color, var(--theme-background, var(--jp-layout-color0, white)));\n",
              "  --sklearn-color-border-box: var(--sg-text-color, var(--theme-code-foreground, var(--jp-content-font-color1, black)));\n",
              "  --sklearn-color-icon: #696969;\n",
              "\n",
              "  @media (prefers-color-scheme: dark) {\n",
              "    /* Redefinition of color scheme for dark theme */\n",
              "    --sklearn-color-text-on-default-background: var(--sg-text-color, var(--theme-code-foreground, var(--jp-content-font-color1, white)));\n",
              "    --sklearn-color-background: var(--sg-background-color, var(--theme-background, var(--jp-layout-color0, #111)));\n",
              "    --sklearn-color-border-box: var(--sg-text-color, var(--theme-code-foreground, var(--jp-content-font-color1, white)));\n",
              "    --sklearn-color-icon: #878787;\n",
              "  }\n",
              "}\n",
              "\n",
              "#sk-container-id-1 {\n",
              "  color: var(--sklearn-color-text);\n",
              "}\n",
              "\n",
              "#sk-container-id-1 pre {\n",
              "  padding: 0;\n",
              "}\n",
              "\n",
              "#sk-container-id-1 input.sk-hidden--visually {\n",
              "  border: 0;\n",
              "  clip: rect(1px 1px 1px 1px);\n",
              "  clip: rect(1px, 1px, 1px, 1px);\n",
              "  height: 1px;\n",
              "  margin: -1px;\n",
              "  overflow: hidden;\n",
              "  padding: 0;\n",
              "  position: absolute;\n",
              "  width: 1px;\n",
              "}\n",
              "\n",
              "#sk-container-id-1 div.sk-dashed-wrapped {\n",
              "  border: 1px dashed var(--sklearn-color-line);\n",
              "  margin: 0 0.4em 0.5em 0.4em;\n",
              "  box-sizing: border-box;\n",
              "  padding-bottom: 0.4em;\n",
              "  background-color: var(--sklearn-color-background);\n",
              "}\n",
              "\n",
              "#sk-container-id-1 div.sk-container {\n",
              "  /* jupyter's `normalize.less` sets `[hidden] { display: none; }`\n",
              "     but bootstrap.min.css set `[hidden] { display: none !important; }`\n",
              "     so we also need the `!important` here to be able to override the\n",
              "     default hidden behavior on the sphinx rendered scikit-learn.org.\n",
              "     See: https://github.com/scikit-learn/scikit-learn/issues/21755 */\n",
              "  display: inline-block !important;\n",
              "  position: relative;\n",
              "}\n",
              "\n",
              "#sk-container-id-1 div.sk-text-repr-fallback {\n",
              "  display: none;\n",
              "}\n",
              "\n",
              "div.sk-parallel-item,\n",
              "div.sk-serial,\n",
              "div.sk-item {\n",
              "  /* draw centered vertical line to link estimators */\n",
              "  background-image: linear-gradient(var(--sklearn-color-text-on-default-background), var(--sklearn-color-text-on-default-background));\n",
              "  background-size: 2px 100%;\n",
              "  background-repeat: no-repeat;\n",
              "  background-position: center center;\n",
              "}\n",
              "\n",
              "/* Parallel-specific style estimator block */\n",
              "\n",
              "#sk-container-id-1 div.sk-parallel-item::after {\n",
              "  content: \"\";\n",
              "  width: 100%;\n",
              "  border-bottom: 2px solid var(--sklearn-color-text-on-default-background);\n",
              "  flex-grow: 1;\n",
              "}\n",
              "\n",
              "#sk-container-id-1 div.sk-parallel {\n",
              "  display: flex;\n",
              "  align-items: stretch;\n",
              "  justify-content: center;\n",
              "  background-color: var(--sklearn-color-background);\n",
              "  position: relative;\n",
              "}\n",
              "\n",
              "#sk-container-id-1 div.sk-parallel-item {\n",
              "  display: flex;\n",
              "  flex-direction: column;\n",
              "}\n",
              "\n",
              "#sk-container-id-1 div.sk-parallel-item:first-child::after {\n",
              "  align-self: flex-end;\n",
              "  width: 50%;\n",
              "}\n",
              "\n",
              "#sk-container-id-1 div.sk-parallel-item:last-child::after {\n",
              "  align-self: flex-start;\n",
              "  width: 50%;\n",
              "}\n",
              "\n",
              "#sk-container-id-1 div.sk-parallel-item:only-child::after {\n",
              "  width: 0;\n",
              "}\n",
              "\n",
              "/* Serial-specific style estimator block */\n",
              "\n",
              "#sk-container-id-1 div.sk-serial {\n",
              "  display: flex;\n",
              "  flex-direction: column;\n",
              "  align-items: center;\n",
              "  background-color: var(--sklearn-color-background);\n",
              "  padding-right: 1em;\n",
              "  padding-left: 1em;\n",
              "}\n",
              "\n",
              "\n",
              "/* Toggleable style: style used for estimator/Pipeline/ColumnTransformer box that is\n",
              "clickable and can be expanded/collapsed.\n",
              "- Pipeline and ColumnTransformer use this feature and define the default style\n",
              "- Estimators will overwrite some part of the style using the `sk-estimator` class\n",
              "*/\n",
              "\n",
              "/* Pipeline and ColumnTransformer style (default) */\n",
              "\n",
              "#sk-container-id-1 div.sk-toggleable {\n",
              "  /* Default theme specific background. It is overwritten whether we have a\n",
              "  specific estimator or a Pipeline/ColumnTransformer */\n",
              "  background-color: var(--sklearn-color-background);\n",
              "}\n",
              "\n",
              "/* Toggleable label */\n",
              "#sk-container-id-1 label.sk-toggleable__label {\n",
              "  cursor: pointer;\n",
              "  display: block;\n",
              "  width: 100%;\n",
              "  margin-bottom: 0;\n",
              "  padding: 0.5em;\n",
              "  box-sizing: border-box;\n",
              "  text-align: center;\n",
              "}\n",
              "\n",
              "#sk-container-id-1 label.sk-toggleable__label-arrow:before {\n",
              "  /* Arrow on the left of the label */\n",
              "  content: \"▸\";\n",
              "  float: left;\n",
              "  margin-right: 0.25em;\n",
              "  color: var(--sklearn-color-icon);\n",
              "}\n",
              "\n",
              "#sk-container-id-1 label.sk-toggleable__label-arrow:hover:before {\n",
              "  color: var(--sklearn-color-text);\n",
              "}\n",
              "\n",
              "/* Toggleable content - dropdown */\n",
              "\n",
              "#sk-container-id-1 div.sk-toggleable__content {\n",
              "  max-height: 0;\n",
              "  max-width: 0;\n",
              "  overflow: hidden;\n",
              "  text-align: left;\n",
              "  /* unfitted */\n",
              "  background-color: var(--sklearn-color-unfitted-level-0);\n",
              "}\n",
              "\n",
              "#sk-container-id-1 div.sk-toggleable__content.fitted {\n",
              "  /* fitted */\n",
              "  background-color: var(--sklearn-color-fitted-level-0);\n",
              "}\n",
              "\n",
              "#sk-container-id-1 div.sk-toggleable__content pre {\n",
              "  margin: 0.2em;\n",
              "  border-radius: 0.25em;\n",
              "  color: var(--sklearn-color-text);\n",
              "  /* unfitted */\n",
              "  background-color: var(--sklearn-color-unfitted-level-0);\n",
              "}\n",
              "\n",
              "#sk-container-id-1 div.sk-toggleable__content.fitted pre {\n",
              "  /* unfitted */\n",
              "  background-color: var(--sklearn-color-fitted-level-0);\n",
              "}\n",
              "\n",
              "#sk-container-id-1 input.sk-toggleable__control:checked~div.sk-toggleable__content {\n",
              "  /* Expand drop-down */\n",
              "  max-height: 200px;\n",
              "  max-width: 100%;\n",
              "  overflow: auto;\n",
              "}\n",
              "\n",
              "#sk-container-id-1 input.sk-toggleable__control:checked~label.sk-toggleable__label-arrow:before {\n",
              "  content: \"▾\";\n",
              "}\n",
              "\n",
              "/* Pipeline/ColumnTransformer-specific style */\n",
              "\n",
              "#sk-container-id-1 div.sk-label input.sk-toggleable__control:checked~label.sk-toggleable__label {\n",
              "  color: var(--sklearn-color-text);\n",
              "  background-color: var(--sklearn-color-unfitted-level-2);\n",
              "}\n",
              "\n",
              "#sk-container-id-1 div.sk-label.fitted input.sk-toggleable__control:checked~label.sk-toggleable__label {\n",
              "  background-color: var(--sklearn-color-fitted-level-2);\n",
              "}\n",
              "\n",
              "/* Estimator-specific style */\n",
              "\n",
              "/* Colorize estimator box */\n",
              "#sk-container-id-1 div.sk-estimator input.sk-toggleable__control:checked~label.sk-toggleable__label {\n",
              "  /* unfitted */\n",
              "  background-color: var(--sklearn-color-unfitted-level-2);\n",
              "}\n",
              "\n",
              "#sk-container-id-1 div.sk-estimator.fitted input.sk-toggleable__control:checked~label.sk-toggleable__label {\n",
              "  /* fitted */\n",
              "  background-color: var(--sklearn-color-fitted-level-2);\n",
              "}\n",
              "\n",
              "#sk-container-id-1 div.sk-label label.sk-toggleable__label,\n",
              "#sk-container-id-1 div.sk-label label {\n",
              "  /* The background is the default theme color */\n",
              "  color: var(--sklearn-color-text-on-default-background);\n",
              "}\n",
              "\n",
              "/* On hover, darken the color of the background */\n",
              "#sk-container-id-1 div.sk-label:hover label.sk-toggleable__label {\n",
              "  color: var(--sklearn-color-text);\n",
              "  background-color: var(--sklearn-color-unfitted-level-2);\n",
              "}\n",
              "\n",
              "/* Label box, darken color on hover, fitted */\n",
              "#sk-container-id-1 div.sk-label.fitted:hover label.sk-toggleable__label.fitted {\n",
              "  color: var(--sklearn-color-text);\n",
              "  background-color: var(--sklearn-color-fitted-level-2);\n",
              "}\n",
              "\n",
              "/* Estimator label */\n",
              "\n",
              "#sk-container-id-1 div.sk-label label {\n",
              "  font-family: monospace;\n",
              "  font-weight: bold;\n",
              "  display: inline-block;\n",
              "  line-height: 1.2em;\n",
              "}\n",
              "\n",
              "#sk-container-id-1 div.sk-label-container {\n",
              "  text-align: center;\n",
              "}\n",
              "\n",
              "/* Estimator-specific */\n",
              "#sk-container-id-1 div.sk-estimator {\n",
              "  font-family: monospace;\n",
              "  border: 1px dotted var(--sklearn-color-border-box);\n",
              "  border-radius: 0.25em;\n",
              "  box-sizing: border-box;\n",
              "  margin-bottom: 0.5em;\n",
              "  /* unfitted */\n",
              "  background-color: var(--sklearn-color-unfitted-level-0);\n",
              "}\n",
              "\n",
              "#sk-container-id-1 div.sk-estimator.fitted {\n",
              "  /* fitted */\n",
              "  background-color: var(--sklearn-color-fitted-level-0);\n",
              "}\n",
              "\n",
              "/* on hover */\n",
              "#sk-container-id-1 div.sk-estimator:hover {\n",
              "  /* unfitted */\n",
              "  background-color: var(--sklearn-color-unfitted-level-2);\n",
              "}\n",
              "\n",
              "#sk-container-id-1 div.sk-estimator.fitted:hover {\n",
              "  /* fitted */\n",
              "  background-color: var(--sklearn-color-fitted-level-2);\n",
              "}\n",
              "\n",
              "/* Specification for estimator info (e.g. \"i\" and \"?\") */\n",
              "\n",
              "/* Common style for \"i\" and \"?\" */\n",
              "\n",
              ".sk-estimator-doc-link,\n",
              "a:link.sk-estimator-doc-link,\n",
              "a:visited.sk-estimator-doc-link {\n",
              "  float: right;\n",
              "  font-size: smaller;\n",
              "  line-height: 1em;\n",
              "  font-family: monospace;\n",
              "  background-color: var(--sklearn-color-background);\n",
              "  border-radius: 1em;\n",
              "  height: 1em;\n",
              "  width: 1em;\n",
              "  text-decoration: none !important;\n",
              "  margin-left: 1ex;\n",
              "  /* unfitted */\n",
              "  border: var(--sklearn-color-unfitted-level-1) 1pt solid;\n",
              "  color: var(--sklearn-color-unfitted-level-1);\n",
              "}\n",
              "\n",
              ".sk-estimator-doc-link.fitted,\n",
              "a:link.sk-estimator-doc-link.fitted,\n",
              "a:visited.sk-estimator-doc-link.fitted {\n",
              "  /* fitted */\n",
              "  border: var(--sklearn-color-fitted-level-1) 1pt solid;\n",
              "  color: var(--sklearn-color-fitted-level-1);\n",
              "}\n",
              "\n",
              "/* On hover */\n",
              "div.sk-estimator:hover .sk-estimator-doc-link:hover,\n",
              ".sk-estimator-doc-link:hover,\n",
              "div.sk-label-container:hover .sk-estimator-doc-link:hover,\n",
              ".sk-estimator-doc-link:hover {\n",
              "  /* unfitted */\n",
              "  background-color: var(--sklearn-color-unfitted-level-3);\n",
              "  color: var(--sklearn-color-background);\n",
              "  text-decoration: none;\n",
              "}\n",
              "\n",
              "div.sk-estimator.fitted:hover .sk-estimator-doc-link.fitted:hover,\n",
              ".sk-estimator-doc-link.fitted:hover,\n",
              "div.sk-label-container:hover .sk-estimator-doc-link.fitted:hover,\n",
              ".sk-estimator-doc-link.fitted:hover {\n",
              "  /* fitted */\n",
              "  background-color: var(--sklearn-color-fitted-level-3);\n",
              "  color: var(--sklearn-color-background);\n",
              "  text-decoration: none;\n",
              "}\n",
              "\n",
              "/* Span, style for the box shown on hovering the info icon */\n",
              ".sk-estimator-doc-link span {\n",
              "  display: none;\n",
              "  z-index: 9999;\n",
              "  position: relative;\n",
              "  font-weight: normal;\n",
              "  right: .2ex;\n",
              "  padding: .5ex;\n",
              "  margin: .5ex;\n",
              "  width: min-content;\n",
              "  min-width: 20ex;\n",
              "  max-width: 50ex;\n",
              "  color: var(--sklearn-color-text);\n",
              "  box-shadow: 2pt 2pt 4pt #999;\n",
              "  /* unfitted */\n",
              "  background: var(--sklearn-color-unfitted-level-0);\n",
              "  border: .5pt solid var(--sklearn-color-unfitted-level-3);\n",
              "}\n",
              "\n",
              ".sk-estimator-doc-link.fitted span {\n",
              "  /* fitted */\n",
              "  background: var(--sklearn-color-fitted-level-0);\n",
              "  border: var(--sklearn-color-fitted-level-3);\n",
              "}\n",
              "\n",
              ".sk-estimator-doc-link:hover span {\n",
              "  display: block;\n",
              "}\n",
              "\n",
              "/* \"?\"-specific style due to the `<a>` HTML tag */\n",
              "\n",
              "#sk-container-id-1 a.estimator_doc_link {\n",
              "  float: right;\n",
              "  font-size: 1rem;\n",
              "  line-height: 1em;\n",
              "  font-family: monospace;\n",
              "  background-color: var(--sklearn-color-background);\n",
              "  border-radius: 1rem;\n",
              "  height: 1rem;\n",
              "  width: 1rem;\n",
              "  text-decoration: none;\n",
              "  /* unfitted */\n",
              "  color: var(--sklearn-color-unfitted-level-1);\n",
              "  border: var(--sklearn-color-unfitted-level-1) 1pt solid;\n",
              "}\n",
              "\n",
              "#sk-container-id-1 a.estimator_doc_link.fitted {\n",
              "  /* fitted */\n",
              "  border: var(--sklearn-color-fitted-level-1) 1pt solid;\n",
              "  color: var(--sklearn-color-fitted-level-1);\n",
              "}\n",
              "\n",
              "/* On hover */\n",
              "#sk-container-id-1 a.estimator_doc_link:hover {\n",
              "  /* unfitted */\n",
              "  background-color: var(--sklearn-color-unfitted-level-3);\n",
              "  color: var(--sklearn-color-background);\n",
              "  text-decoration: none;\n",
              "}\n",
              "\n",
              "#sk-container-id-1 a.estimator_doc_link.fitted:hover {\n",
              "  /* fitted */\n",
              "  background-color: var(--sklearn-color-fitted-level-3);\n",
              "}\n",
              "</style><div id=\"sk-container-id-1\" class=\"sk-top-container\"><div class=\"sk-text-repr-fallback\"><pre>LogisticRegression(class_weight=&#x27;balanced&#x27;, solver=&#x27;liblinear&#x27;)</pre><b>In a Jupyter environment, please rerun this cell to show the HTML representation or trust the notebook. <br />On GitHub, the HTML representation is unable to render, please try loading this page with nbviewer.org.</b></div><div class=\"sk-container\" hidden><div class=\"sk-item\"><div class=\"sk-estimator fitted sk-toggleable\"><input class=\"sk-toggleable__control sk-hidden--visually\" id=\"sk-estimator-id-1\" type=\"checkbox\" checked><label for=\"sk-estimator-id-1\" class=\"sk-toggleable__label fitted sk-toggleable__label-arrow fitted\">&nbsp;&nbsp;LogisticRegression<a class=\"sk-estimator-doc-link fitted\" rel=\"noreferrer\" target=\"_blank\" href=\"https://scikit-learn.org/1.5/modules/generated/sklearn.linear_model.LogisticRegression.html\">?<span>Documentation for LogisticRegression</span></a><span class=\"sk-estimator-doc-link fitted\">i<span>Fitted</span></span></label><div class=\"sk-toggleable__content fitted\"><pre>LogisticRegression(class_weight=&#x27;balanced&#x27;, solver=&#x27;liblinear&#x27;)</pre></div> </div></div></div></div>"
            ],
            "text/plain": [
              "LogisticRegression(class_weight='balanced', solver='liblinear')"
            ]
          },
          "execution_count": 30,
          "metadata": {},
          "output_type": "execute_result"
        }
      ],
      "source": [
        "LR = LogisticRegression(solver='liblinear', class_weight= 'balanced')\n",
        "LR.fit(X_train,y_train)\n"
      ]
    },
    {
      "cell_type": "code",
      "execution_count": 31,
      "metadata": {},
      "outputs": [
        {
          "data": {
            "text/html": [
              "<style>#sk-container-id-2 {\n",
              "  /* Definition of color scheme common for light and dark mode */\n",
              "  --sklearn-color-text: black;\n",
              "  --sklearn-color-line: gray;\n",
              "  /* Definition of color scheme for unfitted estimators */\n",
              "  --sklearn-color-unfitted-level-0: #fff5e6;\n",
              "  --sklearn-color-unfitted-level-1: #f6e4d2;\n",
              "  --sklearn-color-unfitted-level-2: #ffe0b3;\n",
              "  --sklearn-color-unfitted-level-3: chocolate;\n",
              "  /* Definition of color scheme for fitted estimators */\n",
              "  --sklearn-color-fitted-level-0: #f0f8ff;\n",
              "  --sklearn-color-fitted-level-1: #d4ebff;\n",
              "  --sklearn-color-fitted-level-2: #b3dbfd;\n",
              "  --sklearn-color-fitted-level-3: cornflowerblue;\n",
              "\n",
              "  /* Specific color for light theme */\n",
              "  --sklearn-color-text-on-default-background: var(--sg-text-color, var(--theme-code-foreground, var(--jp-content-font-color1, black)));\n",
              "  --sklearn-color-background: var(--sg-background-color, var(--theme-background, var(--jp-layout-color0, white)));\n",
              "  --sklearn-color-border-box: var(--sg-text-color, var(--theme-code-foreground, var(--jp-content-font-color1, black)));\n",
              "  --sklearn-color-icon: #696969;\n",
              "\n",
              "  @media (prefers-color-scheme: dark) {\n",
              "    /* Redefinition of color scheme for dark theme */\n",
              "    --sklearn-color-text-on-default-background: var(--sg-text-color, var(--theme-code-foreground, var(--jp-content-font-color1, white)));\n",
              "    --sklearn-color-background: var(--sg-background-color, var(--theme-background, var(--jp-layout-color0, #111)));\n",
              "    --sklearn-color-border-box: var(--sg-text-color, var(--theme-code-foreground, var(--jp-content-font-color1, white)));\n",
              "    --sklearn-color-icon: #878787;\n",
              "  }\n",
              "}\n",
              "\n",
              "#sk-container-id-2 {\n",
              "  color: var(--sklearn-color-text);\n",
              "}\n",
              "\n",
              "#sk-container-id-2 pre {\n",
              "  padding: 0;\n",
              "}\n",
              "\n",
              "#sk-container-id-2 input.sk-hidden--visually {\n",
              "  border: 0;\n",
              "  clip: rect(1px 1px 1px 1px);\n",
              "  clip: rect(1px, 1px, 1px, 1px);\n",
              "  height: 1px;\n",
              "  margin: -1px;\n",
              "  overflow: hidden;\n",
              "  padding: 0;\n",
              "  position: absolute;\n",
              "  width: 1px;\n",
              "}\n",
              "\n",
              "#sk-container-id-2 div.sk-dashed-wrapped {\n",
              "  border: 1px dashed var(--sklearn-color-line);\n",
              "  margin: 0 0.4em 0.5em 0.4em;\n",
              "  box-sizing: border-box;\n",
              "  padding-bottom: 0.4em;\n",
              "  background-color: var(--sklearn-color-background);\n",
              "}\n",
              "\n",
              "#sk-container-id-2 div.sk-container {\n",
              "  /* jupyter's `normalize.less` sets `[hidden] { display: none; }`\n",
              "     but bootstrap.min.css set `[hidden] { display: none !important; }`\n",
              "     so we also need the `!important` here to be able to override the\n",
              "     default hidden behavior on the sphinx rendered scikit-learn.org.\n",
              "     See: https://github.com/scikit-learn/scikit-learn/issues/21755 */\n",
              "  display: inline-block !important;\n",
              "  position: relative;\n",
              "}\n",
              "\n",
              "#sk-container-id-2 div.sk-text-repr-fallback {\n",
              "  display: none;\n",
              "}\n",
              "\n",
              "div.sk-parallel-item,\n",
              "div.sk-serial,\n",
              "div.sk-item {\n",
              "  /* draw centered vertical line to link estimators */\n",
              "  background-image: linear-gradient(var(--sklearn-color-text-on-default-background), var(--sklearn-color-text-on-default-background));\n",
              "  background-size: 2px 100%;\n",
              "  background-repeat: no-repeat;\n",
              "  background-position: center center;\n",
              "}\n",
              "\n",
              "/* Parallel-specific style estimator block */\n",
              "\n",
              "#sk-container-id-2 div.sk-parallel-item::after {\n",
              "  content: \"\";\n",
              "  width: 100%;\n",
              "  border-bottom: 2px solid var(--sklearn-color-text-on-default-background);\n",
              "  flex-grow: 1;\n",
              "}\n",
              "\n",
              "#sk-container-id-2 div.sk-parallel {\n",
              "  display: flex;\n",
              "  align-items: stretch;\n",
              "  justify-content: center;\n",
              "  background-color: var(--sklearn-color-background);\n",
              "  position: relative;\n",
              "}\n",
              "\n",
              "#sk-container-id-2 div.sk-parallel-item {\n",
              "  display: flex;\n",
              "  flex-direction: column;\n",
              "}\n",
              "\n",
              "#sk-container-id-2 div.sk-parallel-item:first-child::after {\n",
              "  align-self: flex-end;\n",
              "  width: 50%;\n",
              "}\n",
              "\n",
              "#sk-container-id-2 div.sk-parallel-item:last-child::after {\n",
              "  align-self: flex-start;\n",
              "  width: 50%;\n",
              "}\n",
              "\n",
              "#sk-container-id-2 div.sk-parallel-item:only-child::after {\n",
              "  width: 0;\n",
              "}\n",
              "\n",
              "/* Serial-specific style estimator block */\n",
              "\n",
              "#sk-container-id-2 div.sk-serial {\n",
              "  display: flex;\n",
              "  flex-direction: column;\n",
              "  align-items: center;\n",
              "  background-color: var(--sklearn-color-background);\n",
              "  padding-right: 1em;\n",
              "  padding-left: 1em;\n",
              "}\n",
              "\n",
              "\n",
              "/* Toggleable style: style used for estimator/Pipeline/ColumnTransformer box that is\n",
              "clickable and can be expanded/collapsed.\n",
              "- Pipeline and ColumnTransformer use this feature and define the default style\n",
              "- Estimators will overwrite some part of the style using the `sk-estimator` class\n",
              "*/\n",
              "\n",
              "/* Pipeline and ColumnTransformer style (default) */\n",
              "\n",
              "#sk-container-id-2 div.sk-toggleable {\n",
              "  /* Default theme specific background. It is overwritten whether we have a\n",
              "  specific estimator or a Pipeline/ColumnTransformer */\n",
              "  background-color: var(--sklearn-color-background);\n",
              "}\n",
              "\n",
              "/* Toggleable label */\n",
              "#sk-container-id-2 label.sk-toggleable__label {\n",
              "  cursor: pointer;\n",
              "  display: block;\n",
              "  width: 100%;\n",
              "  margin-bottom: 0;\n",
              "  padding: 0.5em;\n",
              "  box-sizing: border-box;\n",
              "  text-align: center;\n",
              "}\n",
              "\n",
              "#sk-container-id-2 label.sk-toggleable__label-arrow:before {\n",
              "  /* Arrow on the left of the label */\n",
              "  content: \"▸\";\n",
              "  float: left;\n",
              "  margin-right: 0.25em;\n",
              "  color: var(--sklearn-color-icon);\n",
              "}\n",
              "\n",
              "#sk-container-id-2 label.sk-toggleable__label-arrow:hover:before {\n",
              "  color: var(--sklearn-color-text);\n",
              "}\n",
              "\n",
              "/* Toggleable content - dropdown */\n",
              "\n",
              "#sk-container-id-2 div.sk-toggleable__content {\n",
              "  max-height: 0;\n",
              "  max-width: 0;\n",
              "  overflow: hidden;\n",
              "  text-align: left;\n",
              "  /* unfitted */\n",
              "  background-color: var(--sklearn-color-unfitted-level-0);\n",
              "}\n",
              "\n",
              "#sk-container-id-2 div.sk-toggleable__content.fitted {\n",
              "  /* fitted */\n",
              "  background-color: var(--sklearn-color-fitted-level-0);\n",
              "}\n",
              "\n",
              "#sk-container-id-2 div.sk-toggleable__content pre {\n",
              "  margin: 0.2em;\n",
              "  border-radius: 0.25em;\n",
              "  color: var(--sklearn-color-text);\n",
              "  /* unfitted */\n",
              "  background-color: var(--sklearn-color-unfitted-level-0);\n",
              "}\n",
              "\n",
              "#sk-container-id-2 div.sk-toggleable__content.fitted pre {\n",
              "  /* unfitted */\n",
              "  background-color: var(--sklearn-color-fitted-level-0);\n",
              "}\n",
              "\n",
              "#sk-container-id-2 input.sk-toggleable__control:checked~div.sk-toggleable__content {\n",
              "  /* Expand drop-down */\n",
              "  max-height: 200px;\n",
              "  max-width: 100%;\n",
              "  overflow: auto;\n",
              "}\n",
              "\n",
              "#sk-container-id-2 input.sk-toggleable__control:checked~label.sk-toggleable__label-arrow:before {\n",
              "  content: \"▾\";\n",
              "}\n",
              "\n",
              "/* Pipeline/ColumnTransformer-specific style */\n",
              "\n",
              "#sk-container-id-2 div.sk-label input.sk-toggleable__control:checked~label.sk-toggleable__label {\n",
              "  color: var(--sklearn-color-text);\n",
              "  background-color: var(--sklearn-color-unfitted-level-2);\n",
              "}\n",
              "\n",
              "#sk-container-id-2 div.sk-label.fitted input.sk-toggleable__control:checked~label.sk-toggleable__label {\n",
              "  background-color: var(--sklearn-color-fitted-level-2);\n",
              "}\n",
              "\n",
              "/* Estimator-specific style */\n",
              "\n",
              "/* Colorize estimator box */\n",
              "#sk-container-id-2 div.sk-estimator input.sk-toggleable__control:checked~label.sk-toggleable__label {\n",
              "  /* unfitted */\n",
              "  background-color: var(--sklearn-color-unfitted-level-2);\n",
              "}\n",
              "\n",
              "#sk-container-id-2 div.sk-estimator.fitted input.sk-toggleable__control:checked~label.sk-toggleable__label {\n",
              "  /* fitted */\n",
              "  background-color: var(--sklearn-color-fitted-level-2);\n",
              "}\n",
              "\n",
              "#sk-container-id-2 div.sk-label label.sk-toggleable__label,\n",
              "#sk-container-id-2 div.sk-label label {\n",
              "  /* The background is the default theme color */\n",
              "  color: var(--sklearn-color-text-on-default-background);\n",
              "}\n",
              "\n",
              "/* On hover, darken the color of the background */\n",
              "#sk-container-id-2 div.sk-label:hover label.sk-toggleable__label {\n",
              "  color: var(--sklearn-color-text);\n",
              "  background-color: var(--sklearn-color-unfitted-level-2);\n",
              "}\n",
              "\n",
              "/* Label box, darken color on hover, fitted */\n",
              "#sk-container-id-2 div.sk-label.fitted:hover label.sk-toggleable__label.fitted {\n",
              "  color: var(--sklearn-color-text);\n",
              "  background-color: var(--sklearn-color-fitted-level-2);\n",
              "}\n",
              "\n",
              "/* Estimator label */\n",
              "\n",
              "#sk-container-id-2 div.sk-label label {\n",
              "  font-family: monospace;\n",
              "  font-weight: bold;\n",
              "  display: inline-block;\n",
              "  line-height: 1.2em;\n",
              "}\n",
              "\n",
              "#sk-container-id-2 div.sk-label-container {\n",
              "  text-align: center;\n",
              "}\n",
              "\n",
              "/* Estimator-specific */\n",
              "#sk-container-id-2 div.sk-estimator {\n",
              "  font-family: monospace;\n",
              "  border: 1px dotted var(--sklearn-color-border-box);\n",
              "  border-radius: 0.25em;\n",
              "  box-sizing: border-box;\n",
              "  margin-bottom: 0.5em;\n",
              "  /* unfitted */\n",
              "  background-color: var(--sklearn-color-unfitted-level-0);\n",
              "}\n",
              "\n",
              "#sk-container-id-2 div.sk-estimator.fitted {\n",
              "  /* fitted */\n",
              "  background-color: var(--sklearn-color-fitted-level-0);\n",
              "}\n",
              "\n",
              "/* on hover */\n",
              "#sk-container-id-2 div.sk-estimator:hover {\n",
              "  /* unfitted */\n",
              "  background-color: var(--sklearn-color-unfitted-level-2);\n",
              "}\n",
              "\n",
              "#sk-container-id-2 div.sk-estimator.fitted:hover {\n",
              "  /* fitted */\n",
              "  background-color: var(--sklearn-color-fitted-level-2);\n",
              "}\n",
              "\n",
              "/* Specification for estimator info (e.g. \"i\" and \"?\") */\n",
              "\n",
              "/* Common style for \"i\" and \"?\" */\n",
              "\n",
              ".sk-estimator-doc-link,\n",
              "a:link.sk-estimator-doc-link,\n",
              "a:visited.sk-estimator-doc-link {\n",
              "  float: right;\n",
              "  font-size: smaller;\n",
              "  line-height: 1em;\n",
              "  font-family: monospace;\n",
              "  background-color: var(--sklearn-color-background);\n",
              "  border-radius: 1em;\n",
              "  height: 1em;\n",
              "  width: 1em;\n",
              "  text-decoration: none !important;\n",
              "  margin-left: 1ex;\n",
              "  /* unfitted */\n",
              "  border: var(--sklearn-color-unfitted-level-1) 1pt solid;\n",
              "  color: var(--sklearn-color-unfitted-level-1);\n",
              "}\n",
              "\n",
              ".sk-estimator-doc-link.fitted,\n",
              "a:link.sk-estimator-doc-link.fitted,\n",
              "a:visited.sk-estimator-doc-link.fitted {\n",
              "  /* fitted */\n",
              "  border: var(--sklearn-color-fitted-level-1) 1pt solid;\n",
              "  color: var(--sklearn-color-fitted-level-1);\n",
              "}\n",
              "\n",
              "/* On hover */\n",
              "div.sk-estimator:hover .sk-estimator-doc-link:hover,\n",
              ".sk-estimator-doc-link:hover,\n",
              "div.sk-label-container:hover .sk-estimator-doc-link:hover,\n",
              ".sk-estimator-doc-link:hover {\n",
              "  /* unfitted */\n",
              "  background-color: var(--sklearn-color-unfitted-level-3);\n",
              "  color: var(--sklearn-color-background);\n",
              "  text-decoration: none;\n",
              "}\n",
              "\n",
              "div.sk-estimator.fitted:hover .sk-estimator-doc-link.fitted:hover,\n",
              ".sk-estimator-doc-link.fitted:hover,\n",
              "div.sk-label-container:hover .sk-estimator-doc-link.fitted:hover,\n",
              ".sk-estimator-doc-link.fitted:hover {\n",
              "  /* fitted */\n",
              "  background-color: var(--sklearn-color-fitted-level-3);\n",
              "  color: var(--sklearn-color-background);\n",
              "  text-decoration: none;\n",
              "}\n",
              "\n",
              "/* Span, style for the box shown on hovering the info icon */\n",
              ".sk-estimator-doc-link span {\n",
              "  display: none;\n",
              "  z-index: 9999;\n",
              "  position: relative;\n",
              "  font-weight: normal;\n",
              "  right: .2ex;\n",
              "  padding: .5ex;\n",
              "  margin: .5ex;\n",
              "  width: min-content;\n",
              "  min-width: 20ex;\n",
              "  max-width: 50ex;\n",
              "  color: var(--sklearn-color-text);\n",
              "  box-shadow: 2pt 2pt 4pt #999;\n",
              "  /* unfitted */\n",
              "  background: var(--sklearn-color-unfitted-level-0);\n",
              "  border: .5pt solid var(--sklearn-color-unfitted-level-3);\n",
              "}\n",
              "\n",
              ".sk-estimator-doc-link.fitted span {\n",
              "  /* fitted */\n",
              "  background: var(--sklearn-color-fitted-level-0);\n",
              "  border: var(--sklearn-color-fitted-level-3);\n",
              "}\n",
              "\n",
              ".sk-estimator-doc-link:hover span {\n",
              "  display: block;\n",
              "}\n",
              "\n",
              "/* \"?\"-specific style due to the `<a>` HTML tag */\n",
              "\n",
              "#sk-container-id-2 a.estimator_doc_link {\n",
              "  float: right;\n",
              "  font-size: 1rem;\n",
              "  line-height: 1em;\n",
              "  font-family: monospace;\n",
              "  background-color: var(--sklearn-color-background);\n",
              "  border-radius: 1rem;\n",
              "  height: 1rem;\n",
              "  width: 1rem;\n",
              "  text-decoration: none;\n",
              "  /* unfitted */\n",
              "  color: var(--sklearn-color-unfitted-level-1);\n",
              "  border: var(--sklearn-color-unfitted-level-1) 1pt solid;\n",
              "}\n",
              "\n",
              "#sk-container-id-2 a.estimator_doc_link.fitted {\n",
              "  /* fitted */\n",
              "  border: var(--sklearn-color-fitted-level-1) 1pt solid;\n",
              "  color: var(--sklearn-color-fitted-level-1);\n",
              "}\n",
              "\n",
              "/* On hover */\n",
              "#sk-container-id-2 a.estimator_doc_link:hover {\n",
              "  /* unfitted */\n",
              "  background-color: var(--sklearn-color-unfitted-level-3);\n",
              "  color: var(--sklearn-color-background);\n",
              "  text-decoration: none;\n",
              "}\n",
              "\n",
              "#sk-container-id-2 a.estimator_doc_link.fitted:hover {\n",
              "  /* fitted */\n",
              "  background-color: var(--sklearn-color-fitted-level-3);\n",
              "}\n",
              "</style><div id=\"sk-container-id-2\" class=\"sk-top-container\"><div class=\"sk-text-repr-fallback\"><pre>SVC(class_weight=&#x27;balanced&#x27;)</pre><b>In a Jupyter environment, please rerun this cell to show the HTML representation or trust the notebook. <br />On GitHub, the HTML representation is unable to render, please try loading this page with nbviewer.org.</b></div><div class=\"sk-container\" hidden><div class=\"sk-item\"><div class=\"sk-estimator fitted sk-toggleable\"><input class=\"sk-toggleable__control sk-hidden--visually\" id=\"sk-estimator-id-2\" type=\"checkbox\" checked><label for=\"sk-estimator-id-2\" class=\"sk-toggleable__label fitted sk-toggleable__label-arrow fitted\">&nbsp;&nbsp;SVC<a class=\"sk-estimator-doc-link fitted\" rel=\"noreferrer\" target=\"_blank\" href=\"https://scikit-learn.org/1.5/modules/generated/sklearn.svm.SVC.html\">?<span>Documentation for SVC</span></a><span class=\"sk-estimator-doc-link fitted\">i<span>Fitted</span></span></label><div class=\"sk-toggleable__content fitted\"><pre>SVC(class_weight=&#x27;balanced&#x27;)</pre></div> </div></div></div></div>"
            ],
            "text/plain": [
              "SVC(class_weight='balanced')"
            ]
          },
          "execution_count": 31,
          "metadata": {},
          "output_type": "execute_result"
        }
      ],
      "source": [
        "SVC = SVC(class_weight = 'balanced')\n",
        "SVC.fit(X_train,y_train)"
      ]
    },
    {
      "cell_type": "code",
      "execution_count": 32,
      "metadata": {},
      "outputs": [
        {
          "data": {
            "text/html": [
              "<style>#sk-container-id-3 {\n",
              "  /* Definition of color scheme common for light and dark mode */\n",
              "  --sklearn-color-text: black;\n",
              "  --sklearn-color-line: gray;\n",
              "  /* Definition of color scheme for unfitted estimators */\n",
              "  --sklearn-color-unfitted-level-0: #fff5e6;\n",
              "  --sklearn-color-unfitted-level-1: #f6e4d2;\n",
              "  --sklearn-color-unfitted-level-2: #ffe0b3;\n",
              "  --sklearn-color-unfitted-level-3: chocolate;\n",
              "  /* Definition of color scheme for fitted estimators */\n",
              "  --sklearn-color-fitted-level-0: #f0f8ff;\n",
              "  --sklearn-color-fitted-level-1: #d4ebff;\n",
              "  --sklearn-color-fitted-level-2: #b3dbfd;\n",
              "  --sklearn-color-fitted-level-3: cornflowerblue;\n",
              "\n",
              "  /* Specific color for light theme */\n",
              "  --sklearn-color-text-on-default-background: var(--sg-text-color, var(--theme-code-foreground, var(--jp-content-font-color1, black)));\n",
              "  --sklearn-color-background: var(--sg-background-color, var(--theme-background, var(--jp-layout-color0, white)));\n",
              "  --sklearn-color-border-box: var(--sg-text-color, var(--theme-code-foreground, var(--jp-content-font-color1, black)));\n",
              "  --sklearn-color-icon: #696969;\n",
              "\n",
              "  @media (prefers-color-scheme: dark) {\n",
              "    /* Redefinition of color scheme for dark theme */\n",
              "    --sklearn-color-text-on-default-background: var(--sg-text-color, var(--theme-code-foreground, var(--jp-content-font-color1, white)));\n",
              "    --sklearn-color-background: var(--sg-background-color, var(--theme-background, var(--jp-layout-color0, #111)));\n",
              "    --sklearn-color-border-box: var(--sg-text-color, var(--theme-code-foreground, var(--jp-content-font-color1, white)));\n",
              "    --sklearn-color-icon: #878787;\n",
              "  }\n",
              "}\n",
              "\n",
              "#sk-container-id-3 {\n",
              "  color: var(--sklearn-color-text);\n",
              "}\n",
              "\n",
              "#sk-container-id-3 pre {\n",
              "  padding: 0;\n",
              "}\n",
              "\n",
              "#sk-container-id-3 input.sk-hidden--visually {\n",
              "  border: 0;\n",
              "  clip: rect(1px 1px 1px 1px);\n",
              "  clip: rect(1px, 1px, 1px, 1px);\n",
              "  height: 1px;\n",
              "  margin: -1px;\n",
              "  overflow: hidden;\n",
              "  padding: 0;\n",
              "  position: absolute;\n",
              "  width: 1px;\n",
              "}\n",
              "\n",
              "#sk-container-id-3 div.sk-dashed-wrapped {\n",
              "  border: 1px dashed var(--sklearn-color-line);\n",
              "  margin: 0 0.4em 0.5em 0.4em;\n",
              "  box-sizing: border-box;\n",
              "  padding-bottom: 0.4em;\n",
              "  background-color: var(--sklearn-color-background);\n",
              "}\n",
              "\n",
              "#sk-container-id-3 div.sk-container {\n",
              "  /* jupyter's `normalize.less` sets `[hidden] { display: none; }`\n",
              "     but bootstrap.min.css set `[hidden] { display: none !important; }`\n",
              "     so we also need the `!important` here to be able to override the\n",
              "     default hidden behavior on the sphinx rendered scikit-learn.org.\n",
              "     See: https://github.com/scikit-learn/scikit-learn/issues/21755 */\n",
              "  display: inline-block !important;\n",
              "  position: relative;\n",
              "}\n",
              "\n",
              "#sk-container-id-3 div.sk-text-repr-fallback {\n",
              "  display: none;\n",
              "}\n",
              "\n",
              "div.sk-parallel-item,\n",
              "div.sk-serial,\n",
              "div.sk-item {\n",
              "  /* draw centered vertical line to link estimators */\n",
              "  background-image: linear-gradient(var(--sklearn-color-text-on-default-background), var(--sklearn-color-text-on-default-background));\n",
              "  background-size: 2px 100%;\n",
              "  background-repeat: no-repeat;\n",
              "  background-position: center center;\n",
              "}\n",
              "\n",
              "/* Parallel-specific style estimator block */\n",
              "\n",
              "#sk-container-id-3 div.sk-parallel-item::after {\n",
              "  content: \"\";\n",
              "  width: 100%;\n",
              "  border-bottom: 2px solid var(--sklearn-color-text-on-default-background);\n",
              "  flex-grow: 1;\n",
              "}\n",
              "\n",
              "#sk-container-id-3 div.sk-parallel {\n",
              "  display: flex;\n",
              "  align-items: stretch;\n",
              "  justify-content: center;\n",
              "  background-color: var(--sklearn-color-background);\n",
              "  position: relative;\n",
              "}\n",
              "\n",
              "#sk-container-id-3 div.sk-parallel-item {\n",
              "  display: flex;\n",
              "  flex-direction: column;\n",
              "}\n",
              "\n",
              "#sk-container-id-3 div.sk-parallel-item:first-child::after {\n",
              "  align-self: flex-end;\n",
              "  width: 50%;\n",
              "}\n",
              "\n",
              "#sk-container-id-3 div.sk-parallel-item:last-child::after {\n",
              "  align-self: flex-start;\n",
              "  width: 50%;\n",
              "}\n",
              "\n",
              "#sk-container-id-3 div.sk-parallel-item:only-child::after {\n",
              "  width: 0;\n",
              "}\n",
              "\n",
              "/* Serial-specific style estimator block */\n",
              "\n",
              "#sk-container-id-3 div.sk-serial {\n",
              "  display: flex;\n",
              "  flex-direction: column;\n",
              "  align-items: center;\n",
              "  background-color: var(--sklearn-color-background);\n",
              "  padding-right: 1em;\n",
              "  padding-left: 1em;\n",
              "}\n",
              "\n",
              "\n",
              "/* Toggleable style: style used for estimator/Pipeline/ColumnTransformer box that is\n",
              "clickable and can be expanded/collapsed.\n",
              "- Pipeline and ColumnTransformer use this feature and define the default style\n",
              "- Estimators will overwrite some part of the style using the `sk-estimator` class\n",
              "*/\n",
              "\n",
              "/* Pipeline and ColumnTransformer style (default) */\n",
              "\n",
              "#sk-container-id-3 div.sk-toggleable {\n",
              "  /* Default theme specific background. It is overwritten whether we have a\n",
              "  specific estimator or a Pipeline/ColumnTransformer */\n",
              "  background-color: var(--sklearn-color-background);\n",
              "}\n",
              "\n",
              "/* Toggleable label */\n",
              "#sk-container-id-3 label.sk-toggleable__label {\n",
              "  cursor: pointer;\n",
              "  display: block;\n",
              "  width: 100%;\n",
              "  margin-bottom: 0;\n",
              "  padding: 0.5em;\n",
              "  box-sizing: border-box;\n",
              "  text-align: center;\n",
              "}\n",
              "\n",
              "#sk-container-id-3 label.sk-toggleable__label-arrow:before {\n",
              "  /* Arrow on the left of the label */\n",
              "  content: \"▸\";\n",
              "  float: left;\n",
              "  margin-right: 0.25em;\n",
              "  color: var(--sklearn-color-icon);\n",
              "}\n",
              "\n",
              "#sk-container-id-3 label.sk-toggleable__label-arrow:hover:before {\n",
              "  color: var(--sklearn-color-text);\n",
              "}\n",
              "\n",
              "/* Toggleable content - dropdown */\n",
              "\n",
              "#sk-container-id-3 div.sk-toggleable__content {\n",
              "  max-height: 0;\n",
              "  max-width: 0;\n",
              "  overflow: hidden;\n",
              "  text-align: left;\n",
              "  /* unfitted */\n",
              "  background-color: var(--sklearn-color-unfitted-level-0);\n",
              "}\n",
              "\n",
              "#sk-container-id-3 div.sk-toggleable__content.fitted {\n",
              "  /* fitted */\n",
              "  background-color: var(--sklearn-color-fitted-level-0);\n",
              "}\n",
              "\n",
              "#sk-container-id-3 div.sk-toggleable__content pre {\n",
              "  margin: 0.2em;\n",
              "  border-radius: 0.25em;\n",
              "  color: var(--sklearn-color-text);\n",
              "  /* unfitted */\n",
              "  background-color: var(--sklearn-color-unfitted-level-0);\n",
              "}\n",
              "\n",
              "#sk-container-id-3 div.sk-toggleable__content.fitted pre {\n",
              "  /* unfitted */\n",
              "  background-color: var(--sklearn-color-fitted-level-0);\n",
              "}\n",
              "\n",
              "#sk-container-id-3 input.sk-toggleable__control:checked~div.sk-toggleable__content {\n",
              "  /* Expand drop-down */\n",
              "  max-height: 200px;\n",
              "  max-width: 100%;\n",
              "  overflow: auto;\n",
              "}\n",
              "\n",
              "#sk-container-id-3 input.sk-toggleable__control:checked~label.sk-toggleable__label-arrow:before {\n",
              "  content: \"▾\";\n",
              "}\n",
              "\n",
              "/* Pipeline/ColumnTransformer-specific style */\n",
              "\n",
              "#sk-container-id-3 div.sk-label input.sk-toggleable__control:checked~label.sk-toggleable__label {\n",
              "  color: var(--sklearn-color-text);\n",
              "  background-color: var(--sklearn-color-unfitted-level-2);\n",
              "}\n",
              "\n",
              "#sk-container-id-3 div.sk-label.fitted input.sk-toggleable__control:checked~label.sk-toggleable__label {\n",
              "  background-color: var(--sklearn-color-fitted-level-2);\n",
              "}\n",
              "\n",
              "/* Estimator-specific style */\n",
              "\n",
              "/* Colorize estimator box */\n",
              "#sk-container-id-3 div.sk-estimator input.sk-toggleable__control:checked~label.sk-toggleable__label {\n",
              "  /* unfitted */\n",
              "  background-color: var(--sklearn-color-unfitted-level-2);\n",
              "}\n",
              "\n",
              "#sk-container-id-3 div.sk-estimator.fitted input.sk-toggleable__control:checked~label.sk-toggleable__label {\n",
              "  /* fitted */\n",
              "  background-color: var(--sklearn-color-fitted-level-2);\n",
              "}\n",
              "\n",
              "#sk-container-id-3 div.sk-label label.sk-toggleable__label,\n",
              "#sk-container-id-3 div.sk-label label {\n",
              "  /* The background is the default theme color */\n",
              "  color: var(--sklearn-color-text-on-default-background);\n",
              "}\n",
              "\n",
              "/* On hover, darken the color of the background */\n",
              "#sk-container-id-3 div.sk-label:hover label.sk-toggleable__label {\n",
              "  color: var(--sklearn-color-text);\n",
              "  background-color: var(--sklearn-color-unfitted-level-2);\n",
              "}\n",
              "\n",
              "/* Label box, darken color on hover, fitted */\n",
              "#sk-container-id-3 div.sk-label.fitted:hover label.sk-toggleable__label.fitted {\n",
              "  color: var(--sklearn-color-text);\n",
              "  background-color: var(--sklearn-color-fitted-level-2);\n",
              "}\n",
              "\n",
              "/* Estimator label */\n",
              "\n",
              "#sk-container-id-3 div.sk-label label {\n",
              "  font-family: monospace;\n",
              "  font-weight: bold;\n",
              "  display: inline-block;\n",
              "  line-height: 1.2em;\n",
              "}\n",
              "\n",
              "#sk-container-id-3 div.sk-label-container {\n",
              "  text-align: center;\n",
              "}\n",
              "\n",
              "/* Estimator-specific */\n",
              "#sk-container-id-3 div.sk-estimator {\n",
              "  font-family: monospace;\n",
              "  border: 1px dotted var(--sklearn-color-border-box);\n",
              "  border-radius: 0.25em;\n",
              "  box-sizing: border-box;\n",
              "  margin-bottom: 0.5em;\n",
              "  /* unfitted */\n",
              "  background-color: var(--sklearn-color-unfitted-level-0);\n",
              "}\n",
              "\n",
              "#sk-container-id-3 div.sk-estimator.fitted {\n",
              "  /* fitted */\n",
              "  background-color: var(--sklearn-color-fitted-level-0);\n",
              "}\n",
              "\n",
              "/* on hover */\n",
              "#sk-container-id-3 div.sk-estimator:hover {\n",
              "  /* unfitted */\n",
              "  background-color: var(--sklearn-color-unfitted-level-2);\n",
              "}\n",
              "\n",
              "#sk-container-id-3 div.sk-estimator.fitted:hover {\n",
              "  /* fitted */\n",
              "  background-color: var(--sklearn-color-fitted-level-2);\n",
              "}\n",
              "\n",
              "/* Specification for estimator info (e.g. \"i\" and \"?\") */\n",
              "\n",
              "/* Common style for \"i\" and \"?\" */\n",
              "\n",
              ".sk-estimator-doc-link,\n",
              "a:link.sk-estimator-doc-link,\n",
              "a:visited.sk-estimator-doc-link {\n",
              "  float: right;\n",
              "  font-size: smaller;\n",
              "  line-height: 1em;\n",
              "  font-family: monospace;\n",
              "  background-color: var(--sklearn-color-background);\n",
              "  border-radius: 1em;\n",
              "  height: 1em;\n",
              "  width: 1em;\n",
              "  text-decoration: none !important;\n",
              "  margin-left: 1ex;\n",
              "  /* unfitted */\n",
              "  border: var(--sklearn-color-unfitted-level-1) 1pt solid;\n",
              "  color: var(--sklearn-color-unfitted-level-1);\n",
              "}\n",
              "\n",
              ".sk-estimator-doc-link.fitted,\n",
              "a:link.sk-estimator-doc-link.fitted,\n",
              "a:visited.sk-estimator-doc-link.fitted {\n",
              "  /* fitted */\n",
              "  border: var(--sklearn-color-fitted-level-1) 1pt solid;\n",
              "  color: var(--sklearn-color-fitted-level-1);\n",
              "}\n",
              "\n",
              "/* On hover */\n",
              "div.sk-estimator:hover .sk-estimator-doc-link:hover,\n",
              ".sk-estimator-doc-link:hover,\n",
              "div.sk-label-container:hover .sk-estimator-doc-link:hover,\n",
              ".sk-estimator-doc-link:hover {\n",
              "  /* unfitted */\n",
              "  background-color: var(--sklearn-color-unfitted-level-3);\n",
              "  color: var(--sklearn-color-background);\n",
              "  text-decoration: none;\n",
              "}\n",
              "\n",
              "div.sk-estimator.fitted:hover .sk-estimator-doc-link.fitted:hover,\n",
              ".sk-estimator-doc-link.fitted:hover,\n",
              "div.sk-label-container:hover .sk-estimator-doc-link.fitted:hover,\n",
              ".sk-estimator-doc-link.fitted:hover {\n",
              "  /* fitted */\n",
              "  background-color: var(--sklearn-color-fitted-level-3);\n",
              "  color: var(--sklearn-color-background);\n",
              "  text-decoration: none;\n",
              "}\n",
              "\n",
              "/* Span, style for the box shown on hovering the info icon */\n",
              ".sk-estimator-doc-link span {\n",
              "  display: none;\n",
              "  z-index: 9999;\n",
              "  position: relative;\n",
              "  font-weight: normal;\n",
              "  right: .2ex;\n",
              "  padding: .5ex;\n",
              "  margin: .5ex;\n",
              "  width: min-content;\n",
              "  min-width: 20ex;\n",
              "  max-width: 50ex;\n",
              "  color: var(--sklearn-color-text);\n",
              "  box-shadow: 2pt 2pt 4pt #999;\n",
              "  /* unfitted */\n",
              "  background: var(--sklearn-color-unfitted-level-0);\n",
              "  border: .5pt solid var(--sklearn-color-unfitted-level-3);\n",
              "}\n",
              "\n",
              ".sk-estimator-doc-link.fitted span {\n",
              "  /* fitted */\n",
              "  background: var(--sklearn-color-fitted-level-0);\n",
              "  border: var(--sklearn-color-fitted-level-3);\n",
              "}\n",
              "\n",
              ".sk-estimator-doc-link:hover span {\n",
              "  display: block;\n",
              "}\n",
              "\n",
              "/* \"?\"-specific style due to the `<a>` HTML tag */\n",
              "\n",
              "#sk-container-id-3 a.estimator_doc_link {\n",
              "  float: right;\n",
              "  font-size: 1rem;\n",
              "  line-height: 1em;\n",
              "  font-family: monospace;\n",
              "  background-color: var(--sklearn-color-background);\n",
              "  border-radius: 1rem;\n",
              "  height: 1rem;\n",
              "  width: 1rem;\n",
              "  text-decoration: none;\n",
              "  /* unfitted */\n",
              "  color: var(--sklearn-color-unfitted-level-1);\n",
              "  border: var(--sklearn-color-unfitted-level-1) 1pt solid;\n",
              "}\n",
              "\n",
              "#sk-container-id-3 a.estimator_doc_link.fitted {\n",
              "  /* fitted */\n",
              "  border: var(--sklearn-color-fitted-level-1) 1pt solid;\n",
              "  color: var(--sklearn-color-fitted-level-1);\n",
              "}\n",
              "\n",
              "/* On hover */\n",
              "#sk-container-id-3 a.estimator_doc_link:hover {\n",
              "  /* unfitted */\n",
              "  background-color: var(--sklearn-color-unfitted-level-3);\n",
              "  color: var(--sklearn-color-background);\n",
              "  text-decoration: none;\n",
              "}\n",
              "\n",
              "#sk-container-id-3 a.estimator_doc_link.fitted:hover {\n",
              "  /* fitted */\n",
              "  background-color: var(--sklearn-color-fitted-level-3);\n",
              "}\n",
              "</style><div id=\"sk-container-id-3\" class=\"sk-top-container\"><div class=\"sk-text-repr-fallback\"><pre>SGDClassifier(class_weight=&#x27;balanced&#x27;)</pre><b>In a Jupyter environment, please rerun this cell to show the HTML representation or trust the notebook. <br />On GitHub, the HTML representation is unable to render, please try loading this page with nbviewer.org.</b></div><div class=\"sk-container\" hidden><div class=\"sk-item\"><div class=\"sk-estimator fitted sk-toggleable\"><input class=\"sk-toggleable__control sk-hidden--visually\" id=\"sk-estimator-id-3\" type=\"checkbox\" checked><label for=\"sk-estimator-id-3\" class=\"sk-toggleable__label fitted sk-toggleable__label-arrow fitted\">&nbsp;&nbsp;SGDClassifier<a class=\"sk-estimator-doc-link fitted\" rel=\"noreferrer\" target=\"_blank\" href=\"https://scikit-learn.org/1.5/modules/generated/sklearn.linear_model.SGDClassifier.html\">?<span>Documentation for SGDClassifier</span></a><span class=\"sk-estimator-doc-link fitted\">i<span>Fitted</span></span></label><div class=\"sk-toggleable__content fitted\"><pre>SGDClassifier(class_weight=&#x27;balanced&#x27;)</pre></div> </div></div></div></div>"
            ],
            "text/plain": [
              "SGDClassifier(class_weight='balanced')"
            ]
          },
          "execution_count": 32,
          "metadata": {},
          "output_type": "execute_result"
        }
      ],
      "source": [
        "SGD = SGDClassifier(class_weight= 'balanced')\n",
        "SGD.fit(X_train,y_train)"
      ]
    },
    {
      "cell_type": "code",
      "execution_count": 33,
      "metadata": {},
      "outputs": [],
      "source": [
        "f1_score_LR = cross_val_score(LR, X_train, y_train, cv=5, scoring=\"f1\")\n",
        "f1_score_SVC = cross_val_score(SVC, X_train, y_train, cv=5, scoring=\"f1\")\n",
        "f1_score_SGD = cross_val_score(SGD, X_train, y_train, cv=5, scoring=\"f1\")\n"
      ]
    },
    {
      "cell_type": "code",
      "execution_count": 34,
      "metadata": {},
      "outputs": [
        {
          "data": {
            "text/plain": [
              "(array([0.5952381 , 0.55050505, 0.5462754 , 0.54814815, 0.54590571]),\n",
              " array([0.65174129, 0.65454545, 0.6300716 , 0.61809045, 0.64248705]),\n",
              " array([0.66420664, 0.63610315, 0.53382084, 0.3030303 , 0.58351893]))"
            ]
          },
          "execution_count": 34,
          "metadata": {},
          "output_type": "execute_result"
        }
      ],
      "source": [
        "f1_score_SVC , f1_score_LR, f1_score_SGD"
      ]
    },
    {
      "cell_type": "markdown",
      "metadata": {},
      "source": [
        "As we can see this models have a poor performance."
      ]
    },
    {
      "cell_type": "markdown",
      "metadata": {},
      "source": [
        "### Confusion Matrix"
      ]
    },
    {
      "cell_type": "code",
      "execution_count": 35,
      "metadata": {},
      "outputs": [],
      "source": [
        "y_train_pred_LR = cross_val_predict(LR, X_train, y_train, cv=3)\n",
        "y_train_pred_SVC = cross_val_predict(SVC, X_train, y_train, cv=3)\n",
        "y_train_pred_SGD = cross_val_predict(SGD, X_train, y_train, cv=3)"
      ]
    },
    {
      "cell_type": "code",
      "execution_count": 36,
      "metadata": {},
      "outputs": [],
      "source": [
        "CM_LR = confusion_matrix(y_train, y_train_pred_LR)\n",
        "CM_SVC = confusion_matrix(y_train, y_train_pred_SVC)\n",
        "CM_SGD = confusion_matrix(y_train, y_train_pred_SGD)\n"
      ]
    },
    {
      "cell_type": "code",
      "execution_count": 37,
      "metadata": {},
      "outputs": [
        {
          "data": {
            "text/plain": [
              "array([0., 1.])"
            ]
          },
          "execution_count": 37,
          "metadata": {},
          "output_type": "execute_result"
        }
      ],
      "source": [
        "LR.classes_"
      ]
    },
    {
      "cell_type": "code",
      "execution_count": 38,
      "metadata": {},
      "outputs": [
        {
          "data": {
            "image/png": "[encoded data removed]",
            "text/plain": [
              "<Figure size 1500x500 with 6 Axes>"
            ]
          },
          "metadata": {},
          "output_type": "display_data"
        }
      ],
      "source": [
        "fig, (ax1, ax2 , ax3) = plt.subplots(1, 3, figsize=(15, 5))\n",
        "labels = [1,0]\n",
        "disp1 = ConfusionMatrixDisplay(confusion_matrix = CM_LR )\n",
        "disp2 = ConfusionMatrixDisplay(confusion_matrix = CM_SVC )\n",
        "disp3 = ConfusionMatrixDisplay(confusion_matrix = CM_SGD )\n",
        "disp1.plot(ax = ax1)\n",
        "disp2.plot(ax = ax2)\n",
        "disp3.plot(ax = ax3)\n",
        "ax1.set_title('Logistic Regression') , ax2.set_title('SVC') , ax3.set_title('SGD')\n",
        "\n",
        "plt.show()\n"
      ]
    },
    {
      "cell_type": "markdown",
      "metadata": {},
      "source": [
        "## Focal Loss"
      ]
    },
    {
      "cell_type": "code",
      "execution_count": 39,
      "metadata": {},
      "outputs": [],
      "source": [
        "import torch\n",
        "import torch.nn as nn\n",
        "import torchvision\n",
        "\n",
        "X_train_t = torch.from_numpy(X_train.values).type(torch.float)\n",
        "y_train_t = torch.from_numpy(y_train.values).type(torch.float)\n",
        "X_test_t = torch.from_numpy(X_test.values).type(torch.float)\n",
        "y_test_t = torch.from_numpy(y_test.values).type(torch.float)"
      ]
    },
    {
      "cell_type": "code",
      "execution_count": 40,
      "metadata": {},
      "outputs": [],
      "source": [
        "\n",
        "class FocalLoss(nn.Module):\n",
        "    def __init__(self, alpha=1, gamma=2, reduction='mean'):\n",
        "        super(FocalLoss, self).__init__()\n",
        "        self.alpha = alpha \n",
        "        self.gamma = gamma  \n",
        "        self.reduction = reduction\n",
        "\n",
        "    def forward(self, inputs, targets):\n",
        "        \n",
        "        BCE_loss = nn.functional.binary_cross_entropy_with_logits(inputs, targets, reduction='none')\n",
        "        \n",
        "        # Compute pt (model confidence on true class)\n",
        "        pt = torch.exp(-BCE_loss)\n",
        "        \n",
        "        # Apply the focal adjustment\n",
        "        focal_loss = self.alpha * (1 - pt) ** self.gamma * BCE_loss\n",
        "\n",
        "        # Apply reduction (mean, sum, or no reduction)\n",
        "        if self.reduction == 'mean':\n",
        "            return focal_loss.mean()\n",
        "        elif self.reduction == 'sum':\n",
        "            return focal_loss.sum()\n",
        "        else:\n",
        "            return focal_loss"
      ]
    },
    {
      "cell_type": "markdown",
      "metadata": {},
      "source": [
        "### Regresión Logistica"
      ]
    },
    {
      "cell_type": "code",
      "execution_count": 41,
      "metadata": {},
      "outputs": [],
      "source": [
        "class LogisticRegression_torch(nn.Module):\n",
        "    def __init__(self):\n",
        "        super().__init__()\n",
        "        self.linear = nn.Linear(in_features=19, out_features= 1)\n",
        "    \n",
        "    def forward(self,x):\n",
        "        return self.linear(x)\n",
        "\n",
        "LR_torch = LogisticRegression_torch()\n",
        "        "
      ]
    },
    {
      "cell_type": "code",
      "execution_count": 42,
      "metadata": {},
      "outputs": [],
      "source": [
        "loss_fn = FocalLoss(alpha = 0.25, gamma = 2.8)\n",
        "\n",
        "optimizer = torch.optim.AdamW(LR_torch.parameters(), lr=1e-4, weight_decay=5e-2)\n",
        "\n"
      ]
    },
    {
      "cell_type": "markdown",
      "metadata": {},
      "source": [
        "#### training\n"
      ]
    },
    {
      "cell_type": "code",
      "execution_count": 43,
      "metadata": {},
      "outputs": [
        {
          "name": "stdout",
          "output_type": "stream",
          "text": [
            "epoch : 10 | loss :  0.259288\n",
            "epoch : 20 | loss :  0.255103\n",
            "epoch : 30 | loss :  0.250907\n",
            "epoch : 40 | loss :  0.246700\n",
            "epoch : 50 | loss :  0.242480\n",
            "epoch : 60 | loss :  0.238246\n",
            "epoch : 70 | loss :  0.233997\n",
            "epoch : 80 | loss :  0.229732\n",
            "epoch : 90 | loss :  0.225450\n",
            "epoch : 100 | loss :  0.221150\n",
            "epoch : 110 | loss :  0.216830\n",
            "epoch : 120 | loss :  0.212491\n",
            "epoch : 130 | loss :  0.208130\n",
            "epoch : 140 | loss :  0.203747\n",
            "epoch : 150 | loss :  0.199340\n",
            "epoch : 160 | loss :  0.194909\n",
            "epoch : 170 | loss :  0.190452\n",
            "epoch : 180 | loss :  0.185969\n",
            "epoch : 190 | loss :  0.181458\n",
            "epoch : 200 | loss :  0.176920\n",
            "epoch : 210 | loss :  0.172353\n",
            "epoch : 220 | loss :  0.167758\n",
            "epoch : 230 | loss :  0.163134\n",
            "epoch : 240 | loss :  0.158481\n",
            "epoch : 250 | loss :  0.153801\n",
            "epoch : 260 | loss :  0.149095\n",
            "epoch : 270 | loss :  0.144365\n",
            "epoch : 280 | loss :  0.139613\n",
            "epoch : 290 | loss :  0.134843\n",
            "epoch : 300 | loss :  0.130059\n",
            "epoch : 310 | loss :  0.125265\n",
            "epoch : 320 | loss :  0.120469\n",
            "epoch : 330 | loss :  0.115678\n",
            "epoch : 340 | loss :  0.110900\n",
            "epoch : 350 | loss :  0.106145\n",
            "epoch : 360 | loss :  0.101425\n",
            "epoch : 370 | loss :  0.096752\n",
            "epoch : 380 | loss :  0.092140\n",
            "epoch : 390 | loss :  0.087604\n",
            "epoch : 400 | loss :  0.083161\n",
            "epoch : 410 | loss :  0.078828\n",
            "epoch : 420 | loss :  0.074621\n",
            "epoch : 430 | loss :  0.070558\n",
            "epoch : 440 | loss :  0.066657\n",
            "epoch : 450 | loss :  0.062934\n",
            "epoch : 460 | loss :  0.059404\n",
            "epoch : 470 | loss :  0.056080\n",
            "epoch : 480 | loss :  0.052974\n",
            "epoch : 490 | loss :  0.050094\n",
            "epoch : 500 | loss :  0.047444\n",
            "epoch : 510 | loss :  0.045029\n",
            "epoch : 520 | loss :  0.042845\n",
            "epoch : 530 | loss :  0.040889\n",
            "epoch : 540 | loss :  0.039152\n",
            "epoch : 550 | loss :  0.037624\n",
            "epoch : 560 | loss :  0.036292\n",
            "epoch : 570 | loss :  0.035139\n",
            "epoch : 580 | loss :  0.034150\n",
            "epoch : 590 | loss :  0.033307\n",
            "epoch : 600 | loss :  0.032592\n",
            "epoch : 610 | loss :  0.031989\n",
            "epoch : 620 | loss :  0.031482\n",
            "epoch : 630 | loss :  0.031056\n",
            "epoch : 640 | loss :  0.030696\n",
            "epoch : 650 | loss :  0.030392\n",
            "epoch : 660 | loss :  0.030133\n",
            "epoch : 670 | loss :  0.029911\n",
            "epoch : 680 | loss :  0.029718\n",
            "epoch : 690 | loss :  0.029547\n",
            "epoch : 700 | loss :  0.029395\n",
            "epoch : 710 | loss :  0.029258\n",
            "epoch : 720 | loss :  0.029131\n",
            "epoch : 730 | loss :  0.029014\n",
            "epoch : 740 | loss :  0.028903\n",
            "epoch : 750 | loss :  0.028798\n",
            "epoch : 760 | loss :  0.028697\n",
            "epoch : 770 | loss :  0.028600\n",
            "epoch : 780 | loss :  0.028506\n",
            "epoch : 790 | loss :  0.028414\n",
            "epoch : 800 | loss :  0.028324\n",
            "epoch : 810 | loss :  0.028236\n",
            "epoch : 820 | loss :  0.028149\n",
            "epoch : 830 | loss :  0.028064\n",
            "epoch : 840 | loss :  0.027980\n",
            "epoch : 850 | loss :  0.027897\n",
            "epoch : 860 | loss :  0.027815\n",
            "epoch : 870 | loss :  0.027734\n",
            "epoch : 880 | loss :  0.027654\n",
            "epoch : 890 | loss :  0.027575\n",
            "epoch : 900 | loss :  0.027497\n",
            "epoch : 910 | loss :  0.027419\n",
            "epoch : 920 | loss :  0.027342\n",
            "epoch : 930 | loss :  0.027266\n",
            "epoch : 940 | loss :  0.027190\n",
            "epoch : 950 | loss :  0.027115\n",
            "epoch : 960 | loss :  0.027041\n",
            "epoch : 970 | loss :  0.026967\n",
            "epoch : 980 | loss :  0.026894\n",
            "epoch : 990 | loss :  0.026821\n",
            "epoch : 1000 | loss :  0.026749\n",
            "epoch : 1010 | loss :  0.026678\n",
            "epoch : 1020 | loss :  0.026607\n",
            "epoch : 1030 | loss :  0.026536\n",
            "epoch : 1040 | loss :  0.026466\n",
            "epoch : 1050 | loss :  0.026396\n",
            "epoch : 1060 | loss :  0.026327\n",
            "epoch : 1070 | loss :  0.026258\n",
            "epoch : 1080 | loss :  0.026190\n",
            "epoch : 1090 | loss :  0.026121\n",
            "epoch : 1100 | loss :  0.026054\n",
            "epoch : 1110 | loss :  0.025987\n",
            "epoch : 1120 | loss :  0.025920\n",
            "epoch : 1130 | loss :  0.025853\n",
            "epoch : 1140 | loss :  0.025787\n",
            "epoch : 1150 | loss :  0.025721\n",
            "epoch : 1160 | loss :  0.025656\n",
            "epoch : 1170 | loss :  0.025591\n",
            "epoch : 1180 | loss :  0.025526\n",
            "epoch : 1190 | loss :  0.025462\n",
            "epoch : 1200 | loss :  0.025398\n",
            "epoch : 1210 | loss :  0.025334\n",
            "epoch : 1220 | loss :  0.025270\n",
            "epoch : 1230 | loss :  0.025207\n",
            "epoch : 1240 | loss :  0.025144\n",
            "epoch : 1250 | loss :  0.025082\n",
            "epoch : 1260 | loss :  0.025019\n",
            "epoch : 1270 | loss :  0.024957\n",
            "epoch : 1280 | loss :  0.024895\n",
            "epoch : 1290 | loss :  0.024834\n",
            "epoch : 1300 | loss :  0.024773\n",
            "epoch : 1310 | loss :  0.024712\n",
            "epoch : 1320 | loss :  0.024651\n",
            "epoch : 1330 | loss :  0.024591\n",
            "epoch : 1340 | loss :  0.024530\n",
            "epoch : 1350 | loss :  0.024470\n",
            "epoch : 1360 | loss :  0.024411\n",
            "epoch : 1370 | loss :  0.024351\n",
            "epoch : 1380 | loss :  0.024292\n",
            "epoch : 1390 | loss :  0.024233\n",
            "epoch : 1400 | loss :  0.024174\n",
            "epoch : 1410 | loss :  0.024116\n",
            "epoch : 1420 | loss :  0.024057\n",
            "epoch : 1430 | loss :  0.023999\n",
            "epoch : 1440 | loss :  0.023941\n",
            "epoch : 1450 | loss :  0.023884\n",
            "epoch : 1460 | loss :  0.023826\n",
            "epoch : 1470 | loss :  0.023769\n",
            "epoch : 1480 | loss :  0.023712\n",
            "epoch : 1490 | loss :  0.023655\n",
            "epoch : 1500 | loss :  0.023598\n",
            "epoch : 1510 | loss :  0.023542\n",
            "epoch : 1520 | loss :  0.023486\n",
            "epoch : 1530 | loss :  0.023429\n",
            "epoch : 1540 | loss :  0.023374\n",
            "epoch : 1550 | loss :  0.023318\n",
            "epoch : 1560 | loss :  0.023263\n",
            "epoch : 1570 | loss :  0.023207\n",
            "epoch : 1580 | loss :  0.023152\n",
            "epoch : 1590 | loss :  0.023097\n",
            "epoch : 1600 | loss :  0.023042\n",
            "epoch : 1610 | loss :  0.022988\n",
            "epoch : 1620 | loss :  0.022934\n",
            "epoch : 1630 | loss :  0.022879\n",
            "epoch : 1640 | loss :  0.022825\n",
            "epoch : 1650 | loss :  0.022772\n",
            "epoch : 1660 | loss :  0.022718\n",
            "epoch : 1670 | loss :  0.022664\n",
            "epoch : 1680 | loss :  0.022611\n",
            "epoch : 1690 | loss :  0.022558\n",
            "epoch : 1700 | loss :  0.022505\n",
            "epoch : 1710 | loss :  0.022452\n",
            "epoch : 1720 | loss :  0.022400\n",
            "epoch : 1730 | loss :  0.022347\n",
            "epoch : 1740 | loss :  0.022295\n",
            "epoch : 1750 | loss :  0.022243\n",
            "epoch : 1760 | loss :  0.022191\n",
            "epoch : 1770 | loss :  0.022139\n",
            "epoch : 1780 | loss :  0.022087\n",
            "epoch : 1790 | loss :  0.022036\n",
            "epoch : 1800 | loss :  0.021984\n",
            "epoch : 1810 | loss :  0.021933\n",
            "epoch : 1820 | loss :  0.021882\n",
            "epoch : 1830 | loss :  0.021831\n",
            "epoch : 1840 | loss :  0.021780\n",
            "epoch : 1850 | loss :  0.021730\n",
            "epoch : 1860 | loss :  0.021679\n",
            "epoch : 1870 | loss :  0.021629\n",
            "epoch : 1880 | loss :  0.021579\n",
            "epoch : 1890 | loss :  0.021529\n",
            "epoch : 1900 | loss :  0.021479\n",
            "epoch : 1910 | loss :  0.021429\n",
            "epoch : 1920 | loss :  0.021380\n",
            "epoch : 1930 | loss :  0.021331\n",
            "epoch : 1940 | loss :  0.021281\n",
            "epoch : 1950 | loss :  0.021232\n",
            "epoch : 1960 | loss :  0.021183\n",
            "epoch : 1970 | loss :  0.021134\n",
            "epoch : 1980 | loss :  0.021086\n",
            "epoch : 1990 | loss :  0.021037\n",
            "epoch : 2000 | loss :  0.020989\n",
            "epoch : 2010 | loss :  0.020941\n",
            "epoch : 2020 | loss :  0.020893\n",
            "epoch : 2030 | loss :  0.020845\n",
            "epoch : 2040 | loss :  0.020797\n",
            "epoch : 2050 | loss :  0.020749\n",
            "epoch : 2060 | loss :  0.020702\n",
            "epoch : 2070 | loss :  0.020654\n",
            "epoch : 2080 | loss :  0.020607\n",
            "epoch : 2090 | loss :  0.020560\n",
            "epoch : 2100 | loss :  0.020513\n",
            "epoch : 2110 | loss :  0.020466\n",
            "epoch : 2120 | loss :  0.020419\n",
            "epoch : 2130 | loss :  0.020373\n",
            "epoch : 2140 | loss :  0.020326\n",
            "epoch : 2150 | loss :  0.020280\n",
            "epoch : 2160 | loss :  0.020234\n",
            "epoch : 2170 | loss :  0.020188\n",
            "epoch : 2180 | loss :  0.020142\n",
            "epoch : 2190 | loss :  0.020096\n",
            "epoch : 2200 | loss :  0.020051\n",
            "epoch : 2210 | loss :  0.020005\n",
            "epoch : 2220 | loss :  0.019960\n",
            "epoch : 2230 | loss :  0.019915\n",
            "epoch : 2240 | loss :  0.019870\n",
            "epoch : 2250 | loss :  0.019825\n",
            "epoch : 2260 | loss :  0.019780\n",
            "epoch : 2270 | loss :  0.019735\n",
            "epoch : 2280 | loss :  0.019691\n",
            "epoch : 2290 | loss :  0.019646\n",
            "epoch : 2300 | loss :  0.019602\n",
            "epoch : 2310 | loss :  0.019558\n",
            "epoch : 2320 | loss :  0.019514\n",
            "epoch : 2330 | loss :  0.019470\n",
            "epoch : 2340 | loss :  0.019426\n",
            "epoch : 2350 | loss :  0.019383\n",
            "epoch : 2360 | loss :  0.019339\n",
            "epoch : 2370 | loss :  0.019296\n",
            "epoch : 2380 | loss :  0.019253\n",
            "epoch : 2390 | loss :  0.019210\n",
            "epoch : 2400 | loss :  0.019167\n",
            "epoch : 2410 | loss :  0.019124\n",
            "epoch : 2420 | loss :  0.019081\n",
            "epoch : 2430 | loss :  0.019039\n",
            "epoch : 2440 | loss :  0.018996\n",
            "epoch : 2450 | loss :  0.018954\n",
            "epoch : 2460 | loss :  0.018912\n",
            "epoch : 2470 | loss :  0.018870\n",
            "epoch : 2480 | loss :  0.018828\n",
            "epoch : 2490 | loss :  0.018786\n",
            "epoch : 2500 | loss :  0.018744\n",
            "epoch : 2510 | loss :  0.018703\n",
            "epoch : 2520 | loss :  0.018662\n",
            "epoch : 2530 | loss :  0.018620\n",
            "epoch : 2540 | loss :  0.018579\n",
            "epoch : 2550 | loss :  0.018538\n",
            "epoch : 2560 | loss :  0.018497\n",
            "epoch : 2570 | loss :  0.018457\n",
            "epoch : 2580 | loss :  0.018416\n",
            "epoch : 2590 | loss :  0.018376\n",
            "epoch : 2600 | loss :  0.018335\n",
            "epoch : 2610 | loss :  0.018295\n",
            "epoch : 2620 | loss :  0.018255\n",
            "epoch : 2630 | loss :  0.018215\n",
            "epoch : 2640 | loss :  0.018176\n",
            "epoch : 2650 | loss :  0.018136\n",
            "epoch : 2660 | loss :  0.018096\n",
            "epoch : 2670 | loss :  0.018057\n",
            "epoch : 2680 | loss :  0.018018\n",
            "epoch : 2690 | loss :  0.017979\n",
            "epoch : 2700 | loss :  0.017940\n",
            "epoch : 2710 | loss :  0.017901\n",
            "epoch : 2720 | loss :  0.017862\n",
            "epoch : 2730 | loss :  0.017823\n",
            "epoch : 2740 | loss :  0.017785\n",
            "epoch : 2750 | loss :  0.017747\n",
            "epoch : 2760 | loss :  0.017708\n",
            "epoch : 2770 | loss :  0.017670\n",
            "epoch : 2780 | loss :  0.017632\n",
            "epoch : 2790 | loss :  0.017594\n",
            "epoch : 2800 | loss :  0.017557\n",
            "epoch : 2810 | loss :  0.017519\n",
            "epoch : 2820 | loss :  0.017482\n",
            "epoch : 2830 | loss :  0.017444\n",
            "epoch : 2840 | loss :  0.017407\n",
            "epoch : 2850 | loss :  0.017370\n",
            "epoch : 2860 | loss :  0.017333\n",
            "epoch : 2870 | loss :  0.017297\n",
            "epoch : 2880 | loss :  0.017260\n",
            "epoch : 2890 | loss :  0.017223\n",
            "epoch : 2900 | loss :  0.017187\n",
            "epoch : 2910 | loss :  0.017151\n",
            "epoch : 2920 | loss :  0.017115\n",
            "epoch : 2930 | loss :  0.017079\n",
            "epoch : 2940 | loss :  0.017043\n",
            "epoch : 2950 | loss :  0.017007\n",
            "epoch : 2960 | loss :  0.016971\n",
            "epoch : 2970 | loss :  0.016936\n",
            "epoch : 2980 | loss :  0.016901\n",
            "epoch : 2990 | loss :  0.016865\n",
            "epoch : 3000 | loss :  0.016830\n",
            "epoch : 3010 | loss :  0.016795\n",
            "epoch : 3020 | loss :  0.016761\n",
            "epoch : 3030 | loss :  0.016726\n",
            "epoch : 3040 | loss :  0.016691\n",
            "epoch : 3050 | loss :  0.016657\n",
            "epoch : 3060 | loss :  0.016623\n",
            "epoch : 3070 | loss :  0.016588\n",
            "epoch : 3080 | loss :  0.016554\n",
            "epoch : 3090 | loss :  0.016520\n",
            "epoch : 3100 | loss :  0.016487\n",
            "epoch : 3110 | loss :  0.016453\n",
            "epoch : 3120 | loss :  0.016420\n",
            "epoch : 3130 | loss :  0.016386\n",
            "epoch : 3140 | loss :  0.016353\n",
            "epoch : 3150 | loss :  0.016320\n",
            "epoch : 3160 | loss :  0.016287\n",
            "epoch : 3170 | loss :  0.016254\n",
            "epoch : 3180 | loss :  0.016221\n",
            "epoch : 3190 | loss :  0.016188\n",
            "epoch : 3200 | loss :  0.016156\n",
            "epoch : 3210 | loss :  0.016124\n",
            "epoch : 3220 | loss :  0.016091\n",
            "epoch : 3230 | loss :  0.016059\n",
            "epoch : 3240 | loss :  0.016027\n",
            "epoch : 3250 | loss :  0.015995\n",
            "epoch : 3260 | loss :  0.015964\n",
            "epoch : 3270 | loss :  0.015932\n",
            "epoch : 3280 | loss :  0.015901\n",
            "epoch : 3290 | loss :  0.015869\n",
            "epoch : 3300 | loss :  0.015838\n",
            "epoch : 3310 | loss :  0.015807\n",
            "epoch : 3320 | loss :  0.015776\n",
            "epoch : 3330 | loss :  0.015745\n",
            "epoch : 3340 | loss :  0.015714\n",
            "epoch : 3350 | loss :  0.015684\n",
            "epoch : 3360 | loss :  0.015653\n",
            "epoch : 3370 | loss :  0.015623\n",
            "epoch : 3380 | loss :  0.015593\n",
            "epoch : 3390 | loss :  0.015563\n",
            "epoch : 3400 | loss :  0.015533\n",
            "epoch : 3410 | loss :  0.015503\n",
            "epoch : 3420 | loss :  0.015473\n",
            "epoch : 3430 | loss :  0.015444\n",
            "epoch : 3440 | loss :  0.015414\n",
            "epoch : 3450 | loss :  0.015385\n",
            "epoch : 3460 | loss :  0.015356\n",
            "epoch : 3470 | loss :  0.015326\n",
            "epoch : 3480 | loss :  0.015297\n",
            "epoch : 3490 | loss :  0.015269\n",
            "epoch : 3500 | loss :  0.015240\n",
            "epoch : 3510 | loss :  0.015211\n",
            "epoch : 3520 | loss :  0.015183\n",
            "epoch : 3530 | loss :  0.015154\n",
            "epoch : 3540 | loss :  0.015126\n",
            "epoch : 3550 | loss :  0.015098\n",
            "epoch : 3560 | loss :  0.015070\n",
            "epoch : 3570 | loss :  0.015042\n",
            "epoch : 3580 | loss :  0.015014\n",
            "epoch : 3590 | loss :  0.014987\n",
            "epoch : 3600 | loss :  0.014959\n",
            "epoch : 3610 | loss :  0.014932\n",
            "epoch : 3620 | loss :  0.014905\n",
            "epoch : 3630 | loss :  0.014877\n",
            "epoch : 3640 | loss :  0.014850\n",
            "epoch : 3650 | loss :  0.014824\n",
            "epoch : 3660 | loss :  0.014797\n",
            "epoch : 3670 | loss :  0.014770\n",
            "epoch : 3680 | loss :  0.014743\n",
            "epoch : 3690 | loss :  0.014717\n",
            "epoch : 3700 | loss :  0.014691\n",
            "epoch : 3710 | loss :  0.014664\n",
            "epoch : 3720 | loss :  0.014638\n",
            "epoch : 3730 | loss :  0.014612\n",
            "epoch : 3740 | loss :  0.014587\n",
            "epoch : 3750 | loss :  0.014561\n",
            "epoch : 3760 | loss :  0.014535\n",
            "epoch : 3770 | loss :  0.014510\n",
            "epoch : 3780 | loss :  0.014484\n",
            "epoch : 3790 | loss :  0.014459\n",
            "epoch : 3800 | loss :  0.014434\n",
            "epoch : 3810 | loss :  0.014409\n",
            "epoch : 3820 | loss :  0.014384\n",
            "epoch : 3830 | loss :  0.014359\n",
            "epoch : 3840 | loss :  0.014334\n",
            "epoch : 3850 | loss :  0.014310\n",
            "epoch : 3860 | loss :  0.014285\n",
            "epoch : 3870 | loss :  0.014261\n",
            "epoch : 3880 | loss :  0.014237\n",
            "epoch : 3890 | loss :  0.014212\n",
            "epoch : 3900 | loss :  0.014188\n",
            "epoch : 3910 | loss :  0.014164\n",
            "epoch : 3920 | loss :  0.014141\n",
            "epoch : 3930 | loss :  0.014117\n",
            "epoch : 3940 | loss :  0.014093\n",
            "epoch : 3950 | loss :  0.014070\n",
            "epoch : 3960 | loss :  0.014046\n",
            "epoch : 3970 | loss :  0.014023\n",
            "epoch : 3980 | loss :  0.014000\n",
            "epoch : 3990 | loss :  0.013977\n",
            "epoch : 4000 | loss :  0.013954\n",
            "epoch : 4010 | loss :  0.013931\n",
            "epoch : 4020 | loss :  0.013908\n",
            "epoch : 4030 | loss :  0.013886\n",
            "epoch : 4040 | loss :  0.013863\n",
            "epoch : 4050 | loss :  0.013841\n",
            "epoch : 4060 | loss :  0.013818\n",
            "epoch : 4070 | loss :  0.013796\n",
            "epoch : 4080 | loss :  0.013774\n",
            "epoch : 4090 | loss :  0.013752\n",
            "epoch : 4100 | loss :  0.013730\n",
            "epoch : 4110 | loss :  0.013709\n",
            "epoch : 4120 | loss :  0.013687\n",
            "epoch : 4130 | loss :  0.013665\n",
            "epoch : 4140 | loss :  0.013644\n",
            "epoch : 4150 | loss :  0.013622\n",
            "epoch : 4160 | loss :  0.013601\n",
            "epoch : 4170 | loss :  0.013580\n",
            "epoch : 4180 | loss :  0.013559\n",
            "epoch : 4190 | loss :  0.013538\n",
            "epoch : 4200 | loss :  0.013517\n",
            "epoch : 4210 | loss :  0.013496\n",
            "epoch : 4220 | loss :  0.013476\n",
            "epoch : 4230 | loss :  0.013455\n",
            "epoch : 4240 | loss :  0.013435\n",
            "epoch : 4250 | loss :  0.013414\n",
            "epoch : 4260 | loss :  0.013394\n",
            "epoch : 4270 | loss :  0.013374\n",
            "epoch : 4280 | loss :  0.013354\n",
            "epoch : 4290 | loss :  0.013334\n",
            "epoch : 4300 | loss :  0.013314\n",
            "epoch : 4310 | loss :  0.013294\n",
            "epoch : 4320 | loss :  0.013274\n",
            "epoch : 4330 | loss :  0.013255\n",
            "epoch : 4340 | loss :  0.013235\n",
            "epoch : 4350 | loss :  0.013216\n",
            "epoch : 4360 | loss :  0.013196\n",
            "epoch : 4370 | loss :  0.013177\n",
            "epoch : 4380 | loss :  0.013158\n",
            "epoch : 4390 | loss :  0.013139\n",
            "epoch : 4400 | loss :  0.013120\n",
            "epoch : 4410 | loss :  0.013101\n",
            "epoch : 4420 | loss :  0.013083\n",
            "epoch : 4430 | loss :  0.013064\n",
            "epoch : 4440 | loss :  0.013045\n",
            "epoch : 4450 | loss :  0.013027\n",
            "epoch : 4460 | loss :  0.013008\n",
            "epoch : 4470 | loss :  0.012990\n",
            "epoch : 4480 | loss :  0.012972\n",
            "epoch : 4490 | loss :  0.012954\n",
            "epoch : 4500 | loss :  0.012936\n",
            "epoch : 4510 | loss :  0.012918\n",
            "epoch : 4520 | loss :  0.012900\n",
            "epoch : 4530 | loss :  0.012882\n",
            "epoch : 4540 | loss :  0.012865\n",
            "epoch : 4550 | loss :  0.012847\n",
            "epoch : 4560 | loss :  0.012830\n",
            "epoch : 4570 | loss :  0.012812\n",
            "epoch : 4580 | loss :  0.012795\n",
            "epoch : 4590 | loss :  0.012778\n",
            "epoch : 4600 | loss :  0.012760\n",
            "epoch : 4610 | loss :  0.012743\n",
            "epoch : 4620 | loss :  0.012726\n",
            "epoch : 4630 | loss :  0.012709\n",
            "epoch : 4640 | loss :  0.012693\n",
            "epoch : 4650 | loss :  0.012676\n",
            "epoch : 4660 | loss :  0.012659\n",
            "epoch : 4670 | loss :  0.012643\n",
            "epoch : 4680 | loss :  0.012626\n",
            "epoch : 4690 | loss :  0.012610\n",
            "epoch : 4700 | loss :  0.012594\n",
            "epoch : 4710 | loss :  0.012577\n",
            "epoch : 4720 | loss :  0.012561\n",
            "epoch : 4730 | loss :  0.012545\n",
            "epoch : 4740 | loss :  0.012529\n",
            "epoch : 4750 | loss :  0.012513\n",
            "epoch : 4760 | loss :  0.012497\n",
            "epoch : 4770 | loss :  0.012482\n",
            "epoch : 4780 | loss :  0.012466\n",
            "epoch : 4790 | loss :  0.012450\n",
            "epoch : 4800 | loss :  0.012435\n",
            "epoch : 4810 | loss :  0.012419\n",
            "epoch : 4820 | loss :  0.012404\n",
            "epoch : 4830 | loss :  0.012389\n",
            "epoch : 4840 | loss :  0.012374\n",
            "epoch : 4850 | loss :  0.012358\n",
            "epoch : 4860 | loss :  0.012343\n",
            "epoch : 4870 | loss :  0.012328\n",
            "epoch : 4880 | loss :  0.012313\n",
            "epoch : 4890 | loss :  0.012299\n",
            "epoch : 4900 | loss :  0.012284\n",
            "epoch : 4910 | loss :  0.012269\n",
            "epoch : 4920 | loss :  0.012255\n",
            "epoch : 4930 | loss :  0.012240\n",
            "epoch : 4940 | loss :  0.012226\n",
            "epoch : 4950 | loss :  0.012211\n",
            "epoch : 4960 | loss :  0.012197\n",
            "epoch : 4970 | loss :  0.012183\n",
            "epoch : 4980 | loss :  0.012169\n",
            "epoch : 4990 | loss :  0.012155\n",
            "epoch : 5000 | loss :  0.012141\n"
          ]
        }
      ],
      "source": [
        "\n",
        "# Loop de entrenamiento\n",
        "torch.manual_seed(42)\n",
        "\n",
        "epochs = 5000\n",
        "\n",
        "for epoch in range(epochs):\n",
        "    ### Modo entrenamiento\n",
        "    LR_torch.train()\n",
        "    # Forward pass\n",
        "    y_logits = LR_torch(X_train_t).squeeze()\n",
        "    #Calcular Loss\n",
        "    loss = loss_fn(y_logits, y_train_t)\n",
        "    \n",
        "    #Loss backward\n",
        "    loss.backward()\n",
        "    \n",
        "    #Optimizer step\n",
        "    optimizer.step()\n",
        "\n",
        "    #Optimizer\n",
        "    optimizer.zero_grad()\n",
        "    \n",
        "    if (epoch + 1) % 10 == 0 :\n",
        "        print(f\"epoch : {epoch + 1} | loss : {loss.item() : 4f}\")"
      ]
    },
    {
      "cell_type": "markdown",
      "metadata": {},
      "source": [
        "#### Test"
      ]
    },
    {
      "cell_type": "code",
      "execution_count": 73,
      "metadata": {},
      "outputs": [],
      "source": [
        "LR_torch.eval()\n",
        "with torch.inference_mode():\n",
        "    y_logits = LR_torch(X_test_t)\n",
        "    y_preds = torch.sigmoid(y_logits).round()"
      ]
    },
    {
      "cell_type": "code",
      "execution_count": 74,
      "metadata": {},
      "outputs": [
        {
          "data": {
            "text/plain": [
              "0.45714285714285713"
            ]
          },
          "execution_count": 74,
          "metadata": {},
          "output_type": "execute_result"
        }
      ],
      "source": [
        "f1_score(y_test_t,y_preds)"
      ]
    },
    {
      "cell_type": "code",
      "execution_count": 75,
      "metadata": {},
      "outputs": [
        {
          "data": {
            "text/plain": [
              "Attrition_Flag\n",
              "0.0    1973\n",
              "1.0     364\n",
              "Name: count, dtype: int64"
            ]
          },
          "execution_count": 75,
          "metadata": {},
          "output_type": "execute_result"
        }
      ],
      "source": [
        "y_test.value_counts()"
      ]
    },
    {
      "cell_type": "code",
      "execution_count": 76,
      "metadata": {},
      "outputs": [
        {
          "data": {
            "text/plain": [
              "array([[1932,   41],\n",
              "       [ 244,  120]])"
            ]
          },
          "execution_count": 76,
          "metadata": {},
          "output_type": "execute_result"
        }
      ],
      "source": [
        "confusion_matrix(y_test,y_preds)"
      ]
    },
    {
      "cell_type": "code",
      "execution_count": 77,
      "metadata": {},
      "outputs": [
        {
          "data": {
            "image/png": "[encoded data removed]",
            "text/plain": [
              "<Figure size 640x480 with 1 Axes>"
            ]
          },
          "metadata": {},
          "output_type": "display_data"
        }
      ],
      "source": [
        "from sklearn.metrics import roc_curve\n",
        "fpr, tpr, thresholds = roc_curve(y_test, y_logits)\n",
        "def plot_roc_curve(fpr, tpr, label=None):\n",
        "    plt.plot(fpr, tpr, linewidth=2, label=label)\n",
        "    plt.plot([0, 1], [0, 1], 'k--') # dashed diagonal\n",
        "    [...] # Add axis labels and grid\n",
        "plot_roc_curve(fpr, tpr)\n",
        "plt.show()"
      ]
    },
    {
      "cell_type": "code",
      "execution_count": 49,
      "metadata": {},
      "outputs": [
        {
          "data": {
            "text/plain": [
              "0.6544448962087076"
            ]
          },
          "execution_count": 49,
          "metadata": {},
          "output_type": "execute_result"
        }
      ],
      "source": [
        "from sklearn.metrics import roc_auc_score , recall_score, precision_score\n",
        "roc_auc_score(y_test,y_preds)"
      ]
    },
    {
      "cell_type": "code",
      "execution_count": 50,
      "metadata": {},
      "outputs": [
        {
          "data": {
            "text/plain": [
              "0.32967032967032966"
            ]
          },
          "execution_count": 50,
          "metadata": {},
          "output_type": "execute_result"
        }
      ],
      "source": [
        "recall_score(y_test,y_preds)"
      ]
    },
    {
      "cell_type": "code",
      "execution_count": 51,
      "metadata": {},
      "outputs": [
        {
          "data": {
            "text/plain": [
              "0.7453416149068323"
            ]
          },
          "execution_count": 51,
          "metadata": {},
          "output_type": "execute_result"
        }
      ],
      "source": [
        "precision_score(y_test,y_preds)"
      ]
    },
    {
      "cell_type": "code",
      "execution_count": 52,
      "metadata": {},
      "outputs": [
        {
          "data": {
            "text/plain": [
              "0.45714285714285713"
            ]
          },
          "execution_count": 52,
          "metadata": {},
          "output_type": "execute_result"
        }
      ],
      "source": [
        "f1_score(y_test_t,y_preds)"
      ]
    },
    {
      "cell_type": "code",
      "execution_count": 53,
      "metadata": {},
      "outputs": [],
      "source": [
        "LR_torch.eval()\n",
        "with torch.inference_mode():\n",
        "    y_logits_train = LR_torch(X_train_t)\n",
        "    y_preds_train = torch.sigmoid(y_logits_train).round()"
      ]
    },
    {
      "cell_type": "code",
      "execution_count": 54,
      "metadata": {},
      "outputs": [
        {
          "data": {
            "text/plain": [
              "0.42441860465116277"
            ]
          },
          "execution_count": 54,
          "metadata": {},
          "output_type": "execute_result"
        }
      ],
      "source": [
        "f1_score(y_train_t,y_preds_train)"
      ]
    },
    {
      "cell_type": "code",
      "execution_count": 55,
      "metadata": {},
      "outputs": [],
      "source": [
        "from sklearn.metrics import precision_recall_curve\n",
        "\n",
        "# Calculate precision, recall, and thresholds\n",
        "precision, recall, thresholds = precision_recall_curve(y_train, y_logits_train)\n"
      ]
    },
    {
      "cell_type": "code",
      "execution_count": 56,
      "metadata": {},
      "outputs": [
        {
          "data": {
            "image/png": "[encoded data removed]",
            "text/plain": [
              "<Figure size 640x480 with 1 Axes>"
            ]
          },
          "metadata": {},
          "output_type": "display_data"
        }
      ],
      "source": [
        "def plot_precision_recall_vs_threshold(precisions, recalls, thresholds):\n",
        "    plt.plot(thresholds, precisions[:-1], \"b--\", label=\"Precision\")\n",
        "    plt.plot(thresholds, recalls[:-1], \"g-\", label=\"Recall\")\n",
        "    [...] # highlight the threshold, add the legend, axis label and grid\n",
        "plot_precision_recall_vs_threshold(precision, recall, thresholds)\n",
        "plt.show()"
      ]
    },
    {
      "cell_type": "code",
      "execution_count": 57,
      "metadata": {},
      "outputs": [],
      "source": [
        "custom_threshold = 0.3  # Example (replace with your optimal threshold)\n",
        "y_pred_custom = (y_logits_train >= custom_threshold).type(torch.uint8) \n",
        "y_pred_custom_test = (y_logits >= custom_threshold).type(torch.uint8) "
      ]
    },
    {
      "cell_type": "code",
      "execution_count": 58,
      "metadata": {},
      "outputs": [
        {
          "data": {
            "text/plain": [
              "tensor([[0],\n",
              "        [0],\n",
              "        [0],\n",
              "        ...,\n",
              "        [0],\n",
              "        [0],\n",
              "        [0]], dtype=torch.uint8)"
            ]
          },
          "execution_count": 58,
          "metadata": {},
          "output_type": "execute_result"
        }
      ],
      "source": [
        "y_pred_custom"
      ]
    },
    {
      "cell_type": "code",
      "execution_count": 59,
      "metadata": {},
      "outputs": [
        {
          "data": {
            "text/plain": [
              "array([[3988,    7],\n",
              "       [ 699,   50]])"
            ]
          },
          "execution_count": 59,
          "metadata": {},
          "output_type": "execute_result"
        }
      ],
      "source": [
        "confusion_matrix(y_train,y_pred_custom)"
      ]
    },
    {
      "cell_type": "code",
      "execution_count": 60,
      "metadata": {},
      "outputs": [
        {
          "data": {
            "text/plain": [
              "array([[1967,    6],\n",
              "       [ 342,   22]])"
            ]
          },
          "execution_count": 60,
          "metadata": {},
          "output_type": "execute_result"
        }
      ],
      "source": [
        "confusion_matrix(y_test,y_pred_custom_test)"
      ]
    },
    {
      "cell_type": "code",
      "execution_count": 61,
      "metadata": {},
      "outputs": [
        {
          "data": {
            "text/plain": [
              "0.12406947890818859"
            ]
          },
          "execution_count": 61,
          "metadata": {},
          "output_type": "execute_result"
        }
      ],
      "source": [
        "f1_score(y_train,y_pred_custom)"
      ]
    },
    {
      "cell_type": "code",
      "execution_count": 62,
      "metadata": {},
      "outputs": [
        {
          "data": {
            "text/plain": [
              "(0.8771929824561403, 0.06675567423230974)"
            ]
          },
          "execution_count": 62,
          "metadata": {},
          "output_type": "execute_result"
        }
      ],
      "source": [
        "precision_score(y_train,y_pred_custom) , recall_score(y_train,y_pred_custom)"
      ]
    },
    {
      "cell_type": "markdown",
      "metadata": {},
      "source": [
        "### Neural Network"
      ]
    },
    {
      "cell_type": "code",
      "execution_count": 63,
      "metadata": {},
      "outputs": [
        {
          "data": {
            "text/plain": [
              "ModelV2(\n",
              "  (layer_1): Linear(in_features=19, out_features=10, bias=True)\n",
              "  (layer_2): Linear(in_features=10, out_features=10, bias=True)\n",
              "  (layer_3): Linear(in_features=10, out_features=1, bias=True)\n",
              "  (relu): ReLU()\n",
              ")"
            ]
          },
          "execution_count": 63,
          "metadata": {},
          "output_type": "execute_result"
        }
      ],
      "source": [
        "# Build a moel with non linear activation\n",
        "from torch import nn\n",
        "class ModelV2(nn.Module):\n",
        "  def __init__(self):\n",
        "    super().__init__()\n",
        "    self.layer_1 = nn.Linear(in_features = 19, out_features = 10)\n",
        "    self.layer_2 = nn.Linear(in_features = 10, out_features = 10)\n",
        "    self.layer_3 = nn.Linear(in_features = 10, out_features = 1)\n",
        "    self.relu = nn.ReLU()\n",
        "  def forward(self,x):\n",
        "    # Where should we put our non linear actv function?\n",
        "    return self.layer_3(self.relu(self.layer_2(self.relu(self.layer_1(x)))))\n",
        "nnModel = ModelV2()\n",
        "nnModel"
      ]
    },
    {
      "cell_type": "code",
      "execution_count": 64,
      "metadata": {},
      "outputs": [],
      "source": [
        "loss_fn = FocalLoss(alpha = 0.25, gamma = 2.8)\n",
        "\n",
        "optimizer = torch.optim.AdamW(nnModel.parameters(), lr=1e-3, weight_decay=5e-2)"
      ]
    },
    {
      "cell_type": "code",
      "execution_count": 65,
      "metadata": {},
      "outputs": [
        {
          "name": "stdout",
          "output_type": "stream",
          "text": [
            "epoch : 10 | loss :  0.129563\n",
            "epoch : 20 | loss :  0.053169\n",
            "epoch : 30 | loss :  0.032498\n",
            "epoch : 40 | loss :  0.025663\n",
            "epoch : 50 | loss :  0.021670\n",
            "epoch : 60 | loss :  0.019355\n",
            "epoch : 70 | loss :  0.018204\n",
            "epoch : 80 | loss :  0.017755\n",
            "epoch : 90 | loss :  0.017542\n",
            "epoch : 100 | loss :  0.017388\n",
            "epoch : 110 | loss :  0.017257\n",
            "epoch : 120 | loss :  0.017142\n",
            "epoch : 130 | loss :  0.017042\n",
            "epoch : 140 | loss :  0.016957\n",
            "epoch : 150 | loss :  0.016887\n",
            "epoch : 160 | loss :  0.016829\n",
            "epoch : 170 | loss :  0.016782\n",
            "epoch : 180 | loss :  0.016743\n",
            "epoch : 190 | loss :  0.016711\n",
            "epoch : 200 | loss :  0.016684\n",
            "epoch : 210 | loss :  0.016660\n",
            "epoch : 220 | loss :  0.016638\n",
            "epoch : 230 | loss :  0.016617\n",
            "epoch : 240 | loss :  0.016597\n",
            "epoch : 250 | loss :  0.016577\n",
            "epoch : 260 | loss :  0.016557\n",
            "epoch : 270 | loss :  0.016537\n",
            "epoch : 280 | loss :  0.016517\n",
            "epoch : 290 | loss :  0.016497\n",
            "epoch : 300 | loss :  0.016477\n",
            "epoch : 310 | loss :  0.016457\n",
            "epoch : 320 | loss :  0.016436\n",
            "epoch : 330 | loss :  0.016415\n",
            "epoch : 340 | loss :  0.016393\n",
            "epoch : 350 | loss :  0.016371\n",
            "epoch : 360 | loss :  0.016348\n",
            "epoch : 370 | loss :  0.016325\n",
            "epoch : 380 | loss :  0.016302\n",
            "epoch : 390 | loss :  0.016277\n",
            "epoch : 400 | loss :  0.016252\n",
            "epoch : 410 | loss :  0.016226\n",
            "epoch : 420 | loss :  0.016200\n",
            "epoch : 430 | loss :  0.016172\n",
            "epoch : 440 | loss :  0.016143\n",
            "epoch : 450 | loss :  0.016114\n",
            "epoch : 460 | loss :  0.016083\n",
            "epoch : 470 | loss :  0.016052\n",
            "epoch : 480 | loss :  0.016019\n",
            "epoch : 490 | loss :  0.015985\n",
            "epoch : 500 | loss :  0.015950\n",
            "epoch : 510 | loss :  0.015914\n",
            "epoch : 520 | loss :  0.015877\n",
            "epoch : 530 | loss :  0.015838\n",
            "epoch : 540 | loss :  0.015798\n",
            "epoch : 550 | loss :  0.015756\n",
            "epoch : 560 | loss :  0.015712\n",
            "epoch : 570 | loss :  0.015667\n",
            "epoch : 580 | loss :  0.015620\n",
            "epoch : 590 | loss :  0.015572\n",
            "epoch : 600 | loss :  0.015522\n",
            "epoch : 610 | loss :  0.015471\n",
            "epoch : 620 | loss :  0.015420\n",
            "epoch : 630 | loss :  0.015368\n",
            "epoch : 640 | loss :  0.015315\n",
            "epoch : 650 | loss :  0.015262\n",
            "epoch : 660 | loss :  0.015209\n",
            "epoch : 670 | loss :  0.015156\n",
            "epoch : 680 | loss :  0.015103\n",
            "epoch : 690 | loss :  0.015049\n",
            "epoch : 700 | loss :  0.014997\n",
            "epoch : 710 | loss :  0.014944\n",
            "epoch : 720 | loss :  0.014893\n",
            "epoch : 730 | loss :  0.014843\n",
            "epoch : 740 | loss :  0.014795\n",
            "epoch : 750 | loss :  0.014748\n",
            "epoch : 760 | loss :  0.014703\n",
            "epoch : 770 | loss :  0.014659\n",
            "epoch : 780 | loss :  0.014617\n",
            "epoch : 790 | loss :  0.014575\n",
            "epoch : 800 | loss :  0.014534\n",
            "epoch : 810 | loss :  0.014493\n",
            "epoch : 820 | loss :  0.014453\n",
            "epoch : 830 | loss :  0.014414\n",
            "epoch : 840 | loss :  0.014375\n",
            "epoch : 850 | loss :  0.014337\n",
            "epoch : 860 | loss :  0.014300\n",
            "epoch : 870 | loss :  0.014263\n",
            "epoch : 880 | loss :  0.014227\n",
            "epoch : 890 | loss :  0.014190\n",
            "epoch : 900 | loss :  0.014154\n",
            "epoch : 910 | loss :  0.014117\n",
            "epoch : 920 | loss :  0.014080\n",
            "epoch : 930 | loss :  0.014044\n",
            "epoch : 940 | loss :  0.014007\n",
            "epoch : 950 | loss :  0.013970\n",
            "epoch : 960 | loss :  0.013933\n",
            "epoch : 970 | loss :  0.013897\n",
            "epoch : 980 | loss :  0.013859\n",
            "epoch : 990 | loss :  0.013822\n",
            "epoch : 1000 | loss :  0.013784\n",
            "epoch : 1010 | loss :  0.013745\n",
            "epoch : 1020 | loss :  0.013706\n",
            "epoch : 1030 | loss :  0.013667\n",
            "epoch : 1040 | loss :  0.013627\n",
            "epoch : 1050 | loss :  0.013587\n",
            "epoch : 1060 | loss :  0.013545\n",
            "epoch : 1070 | loss :  0.013504\n",
            "epoch : 1080 | loss :  0.013462\n",
            "epoch : 1090 | loss :  0.013419\n",
            "epoch : 1100 | loss :  0.013376\n",
            "epoch : 1110 | loss :  0.013333\n",
            "epoch : 1120 | loss :  0.013289\n",
            "epoch : 1130 | loss :  0.013244\n",
            "epoch : 1140 | loss :  0.013198\n",
            "epoch : 1150 | loss :  0.013152\n",
            "epoch : 1160 | loss :  0.013106\n",
            "epoch : 1170 | loss :  0.013059\n",
            "epoch : 1180 | loss :  0.013011\n",
            "epoch : 1190 | loss :  0.012962\n",
            "epoch : 1200 | loss :  0.012913\n",
            "epoch : 1210 | loss :  0.012863\n",
            "epoch : 1220 | loss :  0.012813\n",
            "epoch : 1230 | loss :  0.012763\n",
            "epoch : 1240 | loss :  0.012711\n",
            "epoch : 1250 | loss :  0.012660\n",
            "epoch : 1260 | loss :  0.012607\n",
            "epoch : 1270 | loss :  0.012555\n",
            "epoch : 1280 | loss :  0.012503\n",
            "epoch : 1290 | loss :  0.012450\n",
            "epoch : 1300 | loss :  0.012397\n",
            "epoch : 1310 | loss :  0.012344\n",
            "epoch : 1320 | loss :  0.012290\n",
            "epoch : 1330 | loss :  0.012236\n",
            "epoch : 1340 | loss :  0.012182\n",
            "epoch : 1350 | loss :  0.012128\n",
            "epoch : 1360 | loss :  0.012073\n",
            "epoch : 1370 | loss :  0.012019\n",
            "epoch : 1380 | loss :  0.011965\n",
            "epoch : 1390 | loss :  0.011912\n",
            "epoch : 1400 | loss :  0.011859\n",
            "epoch : 1410 | loss :  0.011805\n",
            "epoch : 1420 | loss :  0.011753\n",
            "epoch : 1430 | loss :  0.011700\n",
            "epoch : 1440 | loss :  0.011647\n",
            "epoch : 1450 | loss :  0.011595\n",
            "epoch : 1460 | loss :  0.011543\n",
            "epoch : 1470 | loss :  0.011491\n",
            "epoch : 1480 | loss :  0.011440\n",
            "epoch : 1490 | loss :  0.011389\n",
            "epoch : 1500 | loss :  0.011339\n",
            "epoch : 1510 | loss :  0.011289\n",
            "epoch : 1520 | loss :  0.011240\n",
            "epoch : 1530 | loss :  0.011191\n",
            "epoch : 1540 | loss :  0.011142\n",
            "epoch : 1550 | loss :  0.011093\n",
            "epoch : 1560 | loss :  0.011044\n",
            "epoch : 1570 | loss :  0.010995\n",
            "epoch : 1580 | loss :  0.010946\n",
            "epoch : 1590 | loss :  0.010896\n",
            "epoch : 1600 | loss :  0.010845\n",
            "epoch : 1610 | loss :  0.010790\n",
            "epoch : 1620 | loss :  0.010721\n",
            "epoch : 1630 | loss :  0.010639\n",
            "epoch : 1640 | loss :  0.010539\n",
            "epoch : 1650 | loss :  0.010411\n",
            "epoch : 1660 | loss :  0.010275\n",
            "epoch : 1670 | loss :  0.010148\n",
            "epoch : 1680 | loss :  0.010031\n",
            "epoch : 1690 | loss :  0.009926\n",
            "epoch : 1700 | loss :  0.009830\n",
            "epoch : 1710 | loss :  0.009745\n",
            "epoch : 1720 | loss :  0.009668\n",
            "epoch : 1730 | loss :  0.009598\n",
            "epoch : 1740 | loss :  0.009534\n",
            "epoch : 1750 | loss :  0.009476\n",
            "epoch : 1760 | loss :  0.009422\n",
            "epoch : 1770 | loss :  0.009372\n",
            "epoch : 1780 | loss :  0.009324\n",
            "epoch : 1790 | loss :  0.009279\n",
            "epoch : 1800 | loss :  0.009237\n",
            "epoch : 1810 | loss :  0.009197\n",
            "epoch : 1820 | loss :  0.009159\n",
            "epoch : 1830 | loss :  0.009124\n",
            "epoch : 1840 | loss :  0.009091\n",
            "epoch : 1850 | loss :  0.009059\n",
            "epoch : 1860 | loss :  0.009029\n",
            "epoch : 1870 | loss :  0.009001\n",
            "epoch : 1880 | loss :  0.008974\n",
            "epoch : 1890 | loss :  0.008948\n",
            "epoch : 1900 | loss :  0.008924\n",
            "epoch : 1910 | loss :  0.008901\n",
            "epoch : 1920 | loss :  0.008879\n",
            "epoch : 1930 | loss :  0.008858\n",
            "epoch : 1940 | loss :  0.008838\n",
            "epoch : 1950 | loss :  0.008820\n",
            "epoch : 1960 | loss :  0.008802\n",
            "epoch : 1970 | loss :  0.008785\n",
            "epoch : 1980 | loss :  0.008769\n",
            "epoch : 1990 | loss :  0.008754\n",
            "epoch : 2000 | loss :  0.008739\n",
            "epoch : 2010 | loss :  0.008725\n",
            "epoch : 2020 | loss :  0.008711\n",
            "epoch : 2030 | loss :  0.008694\n",
            "epoch : 2040 | loss :  0.008678\n",
            "epoch : 2050 | loss :  0.008663\n",
            "epoch : 2060 | loss :  0.008646\n",
            "epoch : 2070 | loss :  0.008629\n",
            "epoch : 2080 | loss :  0.008613\n",
            "epoch : 2090 | loss :  0.008595\n",
            "epoch : 2100 | loss :  0.008576\n",
            "epoch : 2110 | loss :  0.008556\n",
            "epoch : 2120 | loss :  0.008533\n",
            "epoch : 2130 | loss :  0.008503\n",
            "epoch : 2140 | loss :  0.008461\n",
            "epoch : 2150 | loss :  0.008388\n",
            "epoch : 2160 | loss :  0.008337\n",
            "epoch : 2170 | loss :  0.008302\n",
            "epoch : 2180 | loss :  0.008272\n",
            "epoch : 2190 | loss :  0.008246\n",
            "epoch : 2200 | loss :  0.008225\n",
            "epoch : 2210 | loss :  0.008204\n",
            "epoch : 2220 | loss :  0.008186\n",
            "epoch : 2230 | loss :  0.008170\n",
            "epoch : 2240 | loss :  0.008156\n",
            "epoch : 2250 | loss :  0.008143\n",
            "epoch : 2260 | loss :  0.008134\n",
            "epoch : 2270 | loss :  0.008122\n",
            "epoch : 2280 | loss :  0.008114\n",
            "epoch : 2290 | loss :  0.008108\n",
            "epoch : 2300 | loss :  0.008100\n",
            "epoch : 2310 | loss :  0.008093\n",
            "epoch : 2320 | loss :  0.008086\n",
            "epoch : 2330 | loss :  0.008081\n",
            "epoch : 2340 | loss :  0.008075\n",
            "epoch : 2350 | loss :  0.008070\n",
            "epoch : 2360 | loss :  0.008065\n",
            "epoch : 2370 | loss :  0.008058\n",
            "epoch : 2380 | loss :  0.008053\n",
            "epoch : 2390 | loss :  0.008047\n",
            "epoch : 2400 | loss :  0.008041\n",
            "epoch : 2410 | loss :  0.008037\n",
            "epoch : 2420 | loss :  0.008033\n",
            "epoch : 2430 | loss :  0.008031\n",
            "epoch : 2440 | loss :  0.008025\n",
            "epoch : 2450 | loss :  0.008019\n",
            "epoch : 2460 | loss :  0.008012\n",
            "epoch : 2470 | loss :  0.008007\n",
            "epoch : 2480 | loss :  0.008001\n",
            "epoch : 2490 | loss :  0.007992\n",
            "epoch : 2500 | loss :  0.007976\n",
            "epoch : 2510 | loss :  0.007964\n",
            "epoch : 2520 | loss :  0.007958\n",
            "epoch : 2530 | loss :  0.007953\n",
            "epoch : 2540 | loss :  0.007943\n",
            "epoch : 2550 | loss :  0.007934\n",
            "epoch : 2560 | loss :  0.007924\n",
            "epoch : 2570 | loss :  0.007916\n",
            "epoch : 2580 | loss :  0.007909\n",
            "epoch : 2590 | loss :  0.007901\n",
            "epoch : 2600 | loss :  0.007895\n",
            "epoch : 2610 | loss :  0.007885\n",
            "epoch : 2620 | loss :  0.007877\n",
            "epoch : 2630 | loss :  0.007868\n",
            "epoch : 2640 | loss :  0.007859\n",
            "epoch : 2650 | loss :  0.007852\n",
            "epoch : 2660 | loss :  0.007839\n",
            "epoch : 2670 | loss :  0.007826\n",
            "epoch : 2680 | loss :  0.007815\n",
            "epoch : 2690 | loss :  0.007803\n",
            "epoch : 2700 | loss :  0.007791\n",
            "epoch : 2710 | loss :  0.007777\n",
            "epoch : 2720 | loss :  0.007765\n",
            "epoch : 2730 | loss :  0.007752\n",
            "epoch : 2740 | loss :  0.007739\n",
            "epoch : 2750 | loss :  0.007727\n",
            "epoch : 2760 | loss :  0.007712\n",
            "epoch : 2770 | loss :  0.007699\n",
            "epoch : 2780 | loss :  0.007686\n",
            "epoch : 2790 | loss :  0.007674\n",
            "epoch : 2800 | loss :  0.007663\n",
            "epoch : 2810 | loss :  0.007653\n",
            "epoch : 2820 | loss :  0.007643\n",
            "epoch : 2830 | loss :  0.007634\n",
            "epoch : 2840 | loss :  0.007626\n",
            "epoch : 2850 | loss :  0.007616\n",
            "epoch : 2860 | loss :  0.007608\n",
            "epoch : 2870 | loss :  0.007600\n",
            "epoch : 2880 | loss :  0.007593\n",
            "epoch : 2890 | loss :  0.007587\n",
            "epoch : 2900 | loss :  0.007580\n",
            "epoch : 2910 | loss :  0.007573\n",
            "epoch : 2920 | loss :  0.007565\n",
            "epoch : 2930 | loss :  0.007558\n",
            "epoch : 2940 | loss :  0.007550\n",
            "epoch : 2950 | loss :  0.007540\n",
            "epoch : 2960 | loss :  0.007530\n",
            "epoch : 2970 | loss :  0.007520\n",
            "epoch : 2980 | loss :  0.007509\n",
            "epoch : 2990 | loss :  0.007499\n",
            "epoch : 3000 | loss :  0.007488\n",
            "epoch : 3010 | loss :  0.007479\n",
            "epoch : 3020 | loss :  0.007469\n",
            "epoch : 3030 | loss :  0.007462\n",
            "epoch : 3040 | loss :  0.007453\n",
            "epoch : 3050 | loss :  0.007446\n",
            "epoch : 3060 | loss :  0.007438\n",
            "epoch : 3070 | loss :  0.007431\n",
            "epoch : 3080 | loss :  0.007426\n",
            "epoch : 3090 | loss :  0.007420\n",
            "epoch : 3100 | loss :  0.007414\n",
            "epoch : 3110 | loss :  0.007409\n",
            "epoch : 3120 | loss :  0.007403\n",
            "epoch : 3130 | loss :  0.007399\n",
            "epoch : 3140 | loss :  0.007395\n",
            "epoch : 3150 | loss :  0.007391\n",
            "epoch : 3160 | loss :  0.007386\n",
            "epoch : 3170 | loss :  0.007382\n",
            "epoch : 3180 | loss :  0.007378\n",
            "epoch : 3190 | loss :  0.007373\n",
            "epoch : 3200 | loss :  0.007369\n",
            "epoch : 3210 | loss :  0.007363\n",
            "epoch : 3220 | loss :  0.007358\n",
            "epoch : 3230 | loss :  0.007353\n",
            "epoch : 3240 | loss :  0.007348\n",
            "epoch : 3250 | loss :  0.007345\n",
            "epoch : 3260 | loss :  0.007340\n",
            "epoch : 3270 | loss :  0.007336\n",
            "epoch : 3280 | loss :  0.007330\n",
            "epoch : 3290 | loss :  0.007326\n",
            "epoch : 3300 | loss :  0.007322\n",
            "epoch : 3310 | loss :  0.007317\n",
            "epoch : 3320 | loss :  0.007316\n",
            "epoch : 3330 | loss :  0.007311\n",
            "epoch : 3340 | loss :  0.007307\n",
            "epoch : 3350 | loss :  0.007304\n",
            "epoch : 3360 | loss :  0.007301\n",
            "epoch : 3370 | loss :  0.007297\n",
            "epoch : 3380 | loss :  0.007294\n",
            "epoch : 3390 | loss :  0.007293\n",
            "epoch : 3400 | loss :  0.007288\n",
            "epoch : 3410 | loss :  0.007286\n",
            "epoch : 3420 | loss :  0.007283\n",
            "epoch : 3430 | loss :  0.007279\n",
            "epoch : 3440 | loss :  0.007275\n",
            "epoch : 3450 | loss :  0.007273\n",
            "epoch : 3460 | loss :  0.007269\n",
            "epoch : 3470 | loss :  0.007266\n",
            "epoch : 3480 | loss :  0.007264\n",
            "epoch : 3490 | loss :  0.007262\n",
            "epoch : 3500 | loss :  0.007262\n",
            "epoch : 3510 | loss :  0.007258\n",
            "epoch : 3520 | loss :  0.007255\n",
            "epoch : 3530 | loss :  0.007252\n",
            "epoch : 3540 | loss :  0.007249\n",
            "epoch : 3550 | loss :  0.007246\n",
            "epoch : 3560 | loss :  0.007244\n",
            "epoch : 3570 | loss :  0.007241\n",
            "epoch : 3580 | loss :  0.007238\n",
            "epoch : 3590 | loss :  0.007236\n",
            "epoch : 3600 | loss :  0.007233\n",
            "epoch : 3610 | loss :  0.007230\n",
            "epoch : 3620 | loss :  0.007227\n",
            "epoch : 3630 | loss :  0.007226\n",
            "epoch : 3640 | loss :  0.007224\n",
            "epoch : 3650 | loss :  0.007219\n",
            "epoch : 3660 | loss :  0.007217\n",
            "epoch : 3670 | loss :  0.007214\n",
            "epoch : 3680 | loss :  0.007210\n",
            "epoch : 3690 | loss :  0.007208\n",
            "epoch : 3700 | loss :  0.007207\n",
            "epoch : 3710 | loss :  0.007202\n",
            "epoch : 3720 | loss :  0.007200\n",
            "epoch : 3730 | loss :  0.007197\n",
            "epoch : 3740 | loss :  0.007194\n",
            "epoch : 3750 | loss :  0.007192\n",
            "epoch : 3760 | loss :  0.007188\n",
            "epoch : 3770 | loss :  0.007185\n",
            "epoch : 3780 | loss :  0.007186\n",
            "epoch : 3790 | loss :  0.007181\n",
            "epoch : 3800 | loss :  0.007179\n",
            "epoch : 3810 | loss :  0.007177\n",
            "epoch : 3820 | loss :  0.007174\n",
            "epoch : 3830 | loss :  0.007173\n",
            "epoch : 3840 | loss :  0.007168\n",
            "epoch : 3850 | loss :  0.007167\n",
            "epoch : 3860 | loss :  0.007163\n",
            "epoch : 3870 | loss :  0.007163\n",
            "epoch : 3880 | loss :  0.007159\n",
            "epoch : 3890 | loss :  0.007156\n",
            "epoch : 3900 | loss :  0.007153\n",
            "epoch : 3910 | loss :  0.007150\n",
            "epoch : 3920 | loss :  0.007147\n",
            "epoch : 3930 | loss :  0.007143\n",
            "epoch : 3940 | loss :  0.007140\n",
            "epoch : 3950 | loss :  0.007139\n",
            "epoch : 3960 | loss :  0.007135\n",
            "epoch : 3970 | loss :  0.007133\n",
            "epoch : 3980 | loss :  0.007127\n",
            "epoch : 3990 | loss :  0.007126\n",
            "epoch : 4000 | loss :  0.007120\n",
            "epoch : 4010 | loss :  0.007116\n",
            "epoch : 4020 | loss :  0.007115\n",
            "epoch : 4030 | loss :  0.007109\n",
            "epoch : 4040 | loss :  0.007104\n",
            "epoch : 4050 | loss :  0.007100\n",
            "epoch : 4060 | loss :  0.007095\n",
            "epoch : 4070 | loss :  0.007093\n",
            "epoch : 4080 | loss :  0.007087\n",
            "epoch : 4090 | loss :  0.007083\n",
            "epoch : 4100 | loss :  0.007080\n",
            "epoch : 4110 | loss :  0.007077\n",
            "epoch : 4120 | loss :  0.007072\n",
            "epoch : 4130 | loss :  0.007067\n",
            "epoch : 4140 | loss :  0.007062\n",
            "epoch : 4150 | loss :  0.007058\n",
            "epoch : 4160 | loss :  0.007053\n",
            "epoch : 4170 | loss :  0.007052\n",
            "epoch : 4180 | loss :  0.007042\n",
            "epoch : 4190 | loss :  0.007036\n",
            "epoch : 4200 | loss :  0.007030\n",
            "epoch : 4210 | loss :  0.007024\n",
            "epoch : 4220 | loss :  0.007018\n",
            "epoch : 4230 | loss :  0.007012\n",
            "epoch : 4240 | loss :  0.007008\n",
            "epoch : 4250 | loss :  0.007001\n",
            "epoch : 4260 | loss :  0.006996\n",
            "epoch : 4270 | loss :  0.006990\n",
            "epoch : 4280 | loss :  0.006986\n",
            "epoch : 4290 | loss :  0.006979\n",
            "epoch : 4300 | loss :  0.006973\n",
            "epoch : 4310 | loss :  0.006968\n",
            "epoch : 4320 | loss :  0.006962\n",
            "epoch : 4330 | loss :  0.006955\n",
            "epoch : 4340 | loss :  0.006949\n",
            "epoch : 4350 | loss :  0.006943\n",
            "epoch : 4360 | loss :  0.006936\n",
            "epoch : 4370 | loss :  0.006930\n",
            "epoch : 4380 | loss :  0.006923\n",
            "epoch : 4390 | loss :  0.006916\n",
            "epoch : 4400 | loss :  0.006911\n",
            "epoch : 4410 | loss :  0.006903\n",
            "epoch : 4420 | loss :  0.006895\n",
            "epoch : 4430 | loss :  0.006888\n",
            "epoch : 4440 | loss :  0.006881\n",
            "epoch : 4450 | loss :  0.006876\n",
            "epoch : 4460 | loss :  0.006869\n",
            "epoch : 4470 | loss :  0.006861\n",
            "epoch : 4480 | loss :  0.006851\n",
            "epoch : 4490 | loss :  0.006844\n",
            "epoch : 4500 | loss :  0.006837\n",
            "epoch : 4510 | loss :  0.006829\n",
            "epoch : 4520 | loss :  0.006821\n",
            "epoch : 4530 | loss :  0.006813\n",
            "epoch : 4540 | loss :  0.006805\n",
            "epoch : 4550 | loss :  0.006763\n",
            "epoch : 4560 | loss :  0.006702\n",
            "epoch : 4570 | loss :  0.006641\n",
            "epoch : 4580 | loss :  0.006592\n",
            "epoch : 4590 | loss :  0.006554\n",
            "epoch : 4600 | loss :  0.006528\n",
            "epoch : 4610 | loss :  0.006506\n",
            "epoch : 4620 | loss :  0.006487\n",
            "epoch : 4630 | loss :  0.006476\n",
            "epoch : 4640 | loss :  0.006458\n",
            "epoch : 4650 | loss :  0.006441\n",
            "epoch : 4660 | loss :  0.006428\n",
            "epoch : 4670 | loss :  0.006413\n",
            "epoch : 4680 | loss :  0.006399\n",
            "epoch : 4690 | loss :  0.006388\n",
            "epoch : 4700 | loss :  0.006377\n",
            "epoch : 4710 | loss :  0.006366\n",
            "epoch : 4720 | loss :  0.006357\n",
            "epoch : 4730 | loss :  0.006349\n",
            "epoch : 4740 | loss :  0.006339\n",
            "epoch : 4750 | loss :  0.006326\n",
            "epoch : 4760 | loss :  0.006318\n",
            "epoch : 4770 | loss :  0.006307\n",
            "epoch : 4780 | loss :  0.006297\n",
            "epoch : 4790 | loss :  0.006288\n",
            "epoch : 4800 | loss :  0.006281\n",
            "epoch : 4810 | loss :  0.006279\n",
            "epoch : 4820 | loss :  0.006268\n",
            "epoch : 4830 | loss :  0.006264\n",
            "epoch : 4840 | loss :  0.006254\n",
            "epoch : 4850 | loss :  0.006248\n",
            "epoch : 4860 | loss :  0.006240\n",
            "epoch : 4870 | loss :  0.006235\n",
            "epoch : 4880 | loss :  0.006228\n",
            "epoch : 4890 | loss :  0.006223\n",
            "epoch : 4900 | loss :  0.006220\n",
            "epoch : 4910 | loss :  0.006218\n",
            "epoch : 4920 | loss :  0.006209\n",
            "epoch : 4930 | loss :  0.006205\n",
            "epoch : 4940 | loss :  0.006198\n",
            "epoch : 4950 | loss :  0.006196\n",
            "epoch : 4960 | loss :  0.006194\n",
            "epoch : 4970 | loss :  0.006187\n",
            "epoch : 4980 | loss :  0.006186\n",
            "epoch : 4990 | loss :  0.006181\n",
            "epoch : 5000 | loss :  0.006173\n"
          ]
        }
      ],
      "source": [
        "\n",
        "# Loop de entrenamiento\n",
        "torch.manual_seed(42)\n",
        "\n",
        "epochs = 5000\n",
        "\n",
        "for epoch in range(epochs):\n",
        "    ### Modo entrenamiento\n",
        "    nnModel.train()\n",
        "    # Forward pass\n",
        "    y_logits = nnModel(X_train_t).squeeze()\n",
        "    #Calcular Loss\n",
        "    loss = loss_fn(y_logits, y_train_t)\n",
        "    \n",
        "    #Loss backward\n",
        "    loss.backward()\n",
        "    \n",
        "    #Optimizer step\n",
        "    optimizer.step()\n",
        "\n",
        "    #Optimizer\n",
        "    optimizer.zero_grad()\n",
        "    \n",
        "    if (epoch + 1) % 10 == 0 :\n",
        "        print(f\"epoch : {epoch + 1} | loss : {loss.item() : 4f}\")"
      ]
    },
    {
      "cell_type": "markdown",
      "metadata": {},
      "source": [
        "#### Test"
      ]
    },
    {
      "cell_type": "code",
      "execution_count": 66,
      "metadata": {},
      "outputs": [],
      "source": [
        "nnModel.eval()\n",
        "with torch.inference_mode():\n",
        "    y_logits_nn =nnModel(X_test_t)\n",
        "    y_preds_nn = torch.sigmoid(y_logits_nn).round()"
      ]
    },
    {
      "cell_type": "code",
      "execution_count": 67,
      "metadata": {},
      "outputs": [
        {
          "data": {
            "text/plain": [
              "array([[1887,   86],\n",
              "       [  99,  265]])"
            ]
          },
          "execution_count": 67,
          "metadata": {},
          "output_type": "execute_result"
        }
      ],
      "source": [
        "confusion_matrix(y_test,y_preds_nn)"
      ]
    },
    {
      "cell_type": "code",
      "execution_count": 68,
      "metadata": {},
      "outputs": [
        {
          "data": {
            "text/plain": [
              "0.7412587412587412"
            ]
          },
          "execution_count": 68,
          "metadata": {},
          "output_type": "execute_result"
        }
      ],
      "source": [
        "f1_score(y_test, y_preds_nn)"
      ]
    },
    {
      "cell_type": "code",
      "execution_count": 69,
      "metadata": {},
      "outputs": [
        {
          "data": {
            "text/plain": [
              "0.728021978021978"
            ]
          },
          "execution_count": 69,
          "metadata": {},
          "output_type": "execute_result"
        }
      ],
      "source": [
        "recall_score(y_test, y_preds_nn)"
      ]
    },
    {
      "cell_type": "code",
      "execution_count": 70,
      "metadata": {},
      "outputs": [
        {
          "data": {
            "text/plain": [
              "0.7549857549857549"
            ]
          },
          "execution_count": 70,
          "metadata": {},
          "output_type": "execute_result"
        }
      ],
      "source": [
        "precision_score(y_test, y_preds_nn)"
      ]
    },
    {
      "cell_type": "code",
      "execution_count": 71,
      "metadata": {},
      "outputs": [
        {
          "data": {
            "image/png": "[encoded data removed]",
            "text/plain": [
              "<Figure size 640x480 with 1 Axes>"
            ]
          },
          "metadata": {},
          "output_type": "display_data"
        }
      ],
      "source": [
        "from sklearn.metrics import roc_curve\n",
        "fpr, tpr, thresholds = roc_curve(y_test, y_logits_nn)\n",
        "def plot_roc_curve(fpr, tpr, label=None):\n",
        "    plt.plot(fpr, tpr, linewidth=2, label=label)\n",
        "    plt.plot([0, 1], [0, 1], 'k--') # dashed diagonal\n",
        "    [...] # Add axis labels and grid\n",
        "plot_roc_curve(fpr, tpr)\n",
        "plt.show()"
      ]
    }
  ],
  "metadata": {
    "colab": {
      "provenance": []
    },
    "kernelspec": {
      "display_name": "base",
      "language": "python",
      "name": "python3"
    },
    "language_info": {
      "codemirror_mode": {
        "name": "ipython",
        "version": 3
      },
      "file_extension": ".py",
      "mimetype": "text/x-python",
      "name": "python",
      "nbconvert_exporter": "python",
      "pygments_lexer": "ipython3",
      "version": "3.12.2"
    }
  },
  "nbformat": 4,
  "nbformat_minor": 0
}
